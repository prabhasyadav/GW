{
 "cells": [
  {
   "cell_type": "code",
   "execution_count": 14,
   "metadata": {
    "hide_input": false
   },
   "outputs": [],
   "source": [
    "import numpy as np\n",
    "import pandas as pd \n",
    "import matplotlib.pyplot as plt "
   ]
  },
  {
   "cell_type": "markdown",
   "metadata": {
    "slideshow": {
     "slide_type": "slide"
    }
   },
   "source": [
    "# Groundwater Module#\n",
    "\n",
    "## Introductory Graduate Level Course on Hydrogeology ## \n",
    "\n",
    "### Contents by Prof. Rudolf Liedl and his colleagues at the Institute of Groundwater Management (IGW) at TU Dresden###"
   ]
  },
  {
   "cell_type": "markdown",
   "metadata": {
    "slideshow": {
     "slide_type": "slide"
    }
   },
   "source": [
    "### Contents of “Groundwater Module ” ###\n",
    "\n",
    "+ general overview \n",
    "+ types of aquifers, properties of aquifers\n",
    "+ forces and pressure in the subsurface\n",
    "+ laws of groundwater flow and some applications (e.g. groundwater wells)\n",
    "+ quantification of aquifer parameter values via pumping tests\n",
    "+ transport of chemicals (solutes) in groundwater\n",
    "+ retardation and degradation of chemicals in groundwater\n",
    "+ groundwater modelling\n",
    "\n",
    "\n"
   ]
  },
  {
   "cell_type": "markdown",
   "metadata": {
    "slideshow": {
     "slide_type": "slide"
    }
   },
   "source": [
    "## Suggested Literature:## \n",
    "\n",
    "+ Brassington R. (1988): Field hydrogeology, Wiley & Sons.\n",
    "\n",
    "+ Domenico P. A., Schwartz F. W. (1990): Physical and chemical hydrogeology, Wiley & Sons.\n",
    "\n",
    "+ Fetter C. W. (1994): Applied hydrogeology, Prentice Hall.\n",
    "\n",
    "+ Freeze R. A., Cherry J. A. (1979): Groundwater, Prentice Hall.\n",
    "\n",
    "+ Heath R. C. (1987): Basic groundwater hydrology, USGS Water Supply Paper 2220.\n",
    "\n",
    "+ Price M. (1996): Introducing groundwater, Chapman and Hall.\n"
   ]
  },
  {
   "cell_type": "markdown",
   "metadata": {
    "slideshow": {
     "slide_type": "slide"
    }
   },
   "source": [
    "# What is Hydrogeology? #\n"
   ]
  },
  {
   "cell_type": "markdown",
   "metadata": {
    "slideshow": {
     "slide_type": "slide"
    }
   },
   "source": [
    "### What is Hydrogeology? ###\n",
    "\n",
    "''Hydrogeology is the study of the laws governing the movement of subterranean water, the mechanical, chemical, and thermal interaction of this water with the porous solid, and the transport of energy and chemical constituents by the flow.'' (Domenico and Schwartz, 1990)\n",
    "\n",
    "\n",
    "<img src=\"images/L01_fig1.PNG\" alt=\"Hydrogeology Definition\"  width=\"70%\" height=\"100%\" > \n",
    "\n"
   ]
  },
  {
   "cell_type": "markdown",
   "metadata": {
    "slideshow": {
     "slide_type": "slide"
    }
   },
   "source": [
    "### Example: Groundwater Extrction Well ###\n",
    "\n",
    "<img src=\"images/L01_fig2.PNG\" alt=\"Hydrogeology Definition\"  width=\"70%\" height=\"100%\" >\n"
   ]
  },
  {
   "cell_type": "markdown",
   "metadata": {
    "slideshow": {
     "slide_type": "slide"
    }
   },
   "source": [
    "### Example: Groundwater Extrction Well ###\n",
    "\n",
    "<img src=\"images/L01_fig3.PNG\" alt=\"Hydrogeology Definition\"  width=\"70%\" height=\"100%\" > \n"
   ]
  },
  {
   "cell_type": "markdown",
   "metadata": {
    "slideshow": {
     "slide_type": "slide"
    }
   },
   "source": [
    "# Groundwater as Part of the Global Water Cycle #\n"
   ]
  },
  {
   "cell_type": "markdown",
   "metadata": {
    "slideshow": {
     "slide_type": "slide"
    }
   },
   "source": [
    "### The Global Water Cycle ###\n",
    "\n",
    "<img src=\"images/L01_fig4.PNG\" alt=\"Hydrogeology Definition\"  width=\"60%\" height=\"100%\" > \n",
    "\n",
    " **57700 km³ of water are actively participating in the cycle each year.**\n"
   ]
  },
  {
   "cell_type": "markdown",
   "metadata": {
    "slideshow": {
     "slide_type": "slide"
    }
   },
   "source": [
    "### Water Balance by Continents ###\n",
    "<img src=\"images/L01_fig5.PNG\" alt=\"Hydrogeology Definition\"  width=\"70%\" height=\"100%\" > "
   ]
  },
  {
   "cell_type": "markdown",
   "metadata": {
    "slideshow": {
     "slide_type": "slide"
    }
   },
   "source": [
    "## The Hydrological Balance ##\n",
    "\n",
    "+ The hydrological balance provides a relationship between various flow rates for a certain area. It is based on the conservation of water volume.\n",
    "+ expressed in words:  inflow equals outflow plus change in storage\n",
    "+ expressed by a formula:\n",
    "\n",
    "$$\n",
    "P = ET + R + \\Delta S\n",
    "$$\n",
    "where, $P$ = _Precipitation, $ET$ = _Evapotranspiration, $R$= _Runoff and $\\Delta S$ = Change in Storage_\n",
    "\n",
    "+ change in storage $\\Delta S > 0$ :               Water volume is increasing with time in the investigation area.\n",
    "+ change in storage $\\Delta S < 0$:                 Water volume is decreasing with time in the investigation area.\n",
    "+ change in storage $\\Delta S = 0$:               Water volume does not change with time in the investigation area (steady-state or stationary situation, i.e. inflow equals outflow)."
   ]
  },
  {
   "cell_type": "markdown",
   "metadata": {
    "slideshow": {
     "slide_type": "slide"
    }
   },
   "source": [
    "# Water Volume ###\n",
    "\n",
    "The total volume of water on Earth amounts to ca. 1 358 710 150 km$^3$ ($\\approx$ 1018 m$^3$).\n",
    "\n",
    "\n",
    "Percent Shares\\*|-|-|\n",
    "- | - | - | \n",
    "Saline water        | 97,2 % |<img src=\"images/L01_fig6_a.PNG\" alt=\"Hydrogeology Definition\"  width=\"20%\" height=\"100%\" > \n",
    "Fresh water, liquid\t| 0,65 %  |<img src=\"images/L01_fig6_b.PNG\" alt=\"Hydrogeology Definition\"  width=\"5%\" height=\"100%\" > \n",
    "Fresh water, ice\t| 2,15 % |<img src=\"images/L01_fig6_c.PNG\" alt=\"Hydrogeology Definition\"  width=\"10%\" height=\"100%\" > \n",
    "\n",
    "\n",
    "The total volume of fresh water on Earth amounts to ca. $38\\times 10^6$ km$^3$ ($\\approx$ 1016 m$^3$).\n",
    "\n",
    "*Gleick P. (1996): Water re-sources, in: Schneider S. H. (ed.), Encyclopedia of climate and weather 2, Oxford Univ. Press.\n"
   ]
  },
  {
   "cell_type": "markdown",
   "metadata": {
    "slideshow": {
     "slide_type": "slide"
    }
   },
   "source": [
    "### Volume of Available Fresh Water ###\n",
    "\n",
    "The total volume of available fresh water (liquid) on Earth amounts to ca. 8 831 600 km$^3$ ($\\approx$ 1016 m$^3$).\n",
    "\n",
    "Percent Shares\\*|-|-|\n",
    "- | - | - | \n",
    "Groundwater       | 97.55 % |<img src=\"images/L01_fig7_a.PNG\" alt=\"Hydrogeology Definition\"  width=\"20%\" height=\"100%\" > \n",
    "Vapour\t| 0.15 %  |<img src=\"images/L01_fig7_b.PNG\" alt=\"Hydrogeology Definition\"  width=\"5%\" height=\"100%\" > \n",
    "Soil water\t| 0.80 % |<img src=\"images/L01_fig7_c.PNG\" alt=\"Hydrogeology Definition\"  width=\"10%\" height=\"100%\" > \n",
    "Lakes and Rivers\t| 1.50 % |<img src=\"images/L01_fig7_d.PNG\" alt=\"Hydrogeology Definition\"  width=\"15%\" height=\"100%\" > \n",
    "\n",
    "*Gleick P. (1996): Water re-sources, in: Schneider S. H. (ed.), Encyclopedia of climate and weather 2, Oxford Univ. Press.\n"
   ]
  },
  {
   "cell_type": "markdown",
   "metadata": {
    "slideshow": {
     "slide_type": "slide"
    }
   },
   "source": [
    "### Fresh Water Resources ### \n",
    "\n",
    "<img src=\"images/L01_fig8.PNG\" alt=\"Hydrogeology Definition\"  width=\"70%\" height=\"100%\" > \n"
   ]
  },
  {
   "cell_type": "markdown",
   "metadata": {
    "slideshow": {
     "slide_type": "slide"
    }
   },
   "source": [
    "# Volume and Mass Budgets # \n"
   ]
  },
  {
   "cell_type": "markdown",
   "metadata": {
    "slideshow": {
     "slide_type": "slide"
    }
   },
   "source": [
    "## Introductory Remarks ##\n",
    "\n",
    "\n",
    "**budget** = quantitative comparison of ''growth'' (or ''production'') and ''loss'' in a system\n",
    "\n",
    "Budgets can be put together for various quantities:\n",
    "+ energy\n",
    "+ mass <span style=\"color:blue\">$\\leftarrow$ needed to quantify transport of solutes in groundwater</span>\n",
    "+ volume <span style=\"color:blue\">$\\leftarrow$  needed to quantify groundwater flow</span>\n",
    "+ momentum\n",
    "+ electric charge\n",
    "+ number of inhabitants\n",
    "+ animal population\n",
    "+ money (bank account!)\n",
    "+ and many others\n"
   ]
  },
  {
   "cell_type": "markdown",
   "metadata": {
    "slideshow": {
     "slide_type": "slide"
    }
   },
   "source": [
    "### Volume Budget ###\n",
    "\n",
    "$$\n",
    "\\Delta V = Q_{in} \\cdot \\Delta t - Q{out} \\cdot \\Delta t \n",
    "$$\n",
    "<br>\n",
    "with\t$\\Delta t$ = time interval [T] <br>\n",
    "\t$\\Delta V$ = change of volume in the system [L$^3$]<br>\n",
    "\t$Q_{in}$ = volumetric rate of flow into the system [L$^3$/T]<br>\n",
    "\t$Q_{out}$ = volumetric rate of flow out of the system [L$^3$/T]<br>\n",
    "\n",
    "+ Inflow and outflow may each consist of several individual components.\n",
    "+ $\\Delta V$ = 0 (no change in  volume) is tantamount to steady-state or stationary (= time-independent) conditions.\n",
    "+ For steady-state conditions we have: $Q_{in}$ = $Q_{out}$\n"
   ]
  },
  {
   "cell_type": "markdown",
   "metadata": {
    "slideshow": {
     "slide_type": "slide"
    }
   },
   "source": [
    "### Water Budget for a Catchment ###\n",
    "\n",
    "**To be considered:</span>**\n",
    "+ precipitation\n",
    "+ evapotranspiration\n",
    "+ surface runoff\n",
    "+ subsurface runoff\n",
    "\n",
    "<img src=\"images/L01_fig9.PNG\" alt=\"Hydrogeology Definition\"  width=\"35%\" height=\"100%\" >\n",
    "\n",
    "\n",
    "   \n",
    "\n",
    "\n"
   ]
  },
  {
   "cell_type": "markdown",
   "metadata": {
    "slideshow": {
     "slide_type": "slide"
    }
   },
   "source": [
    "### Example: Estimation of Subsurface Runoff ###\n",
    "Most numbers used in the example do not refer to the catchment shown before!\n",
    "\n",
    "To calculate the following four-steps are to be followed:\n",
    "\n",
    "+ Step 1: determine rate of inflow in m³/a \n",
    "+ step 2: determine rate of outflow due to evapotranspiration (ET.A) in m³/a    \n",
    "+ Step 3: express rate of outflow due to surface runoff in m³/a\n",
    "+ step 4: determine rate of outflow due to subsurface runoff \n",
    "\n",
    "An Example:<br>\n",
    "For given data, determine the rate of outflow Qout,sub due to subsurface runoff for steady-state conditions"
   ]
  },
  {
   "cell_type": "code",
   "execution_count": 33,
   "metadata": {
    "slideshow": {
     "slide_type": "subslide"
    }
   },
   "outputs": [
    {
     "name": "stdout",
     "output_type": "stream",
     "text": [
      "The rate of inflow, Qin is 2.5E+09 m³/a\n",
      "The outflow rate due to EvapoTranspiration is 9.0E+08 m³/a\n",
      "The surface outflow rate, Qout_surf in m³/a is 1.3E+09 m³/a\n",
      "The subsurface outflow rate, Qout_surf in m³/a is 3.1E+08 m³/a\n"
     ]
    }
   ],
   "source": [
    "A = 4500 # km², catchment area\n",
    "P = 550 # mm/a, precipitation\n",
    "ET = 200 # mm/a, evapotranspiration\n",
    "Qout_surf = 40 # m³/s, surface runoff\n",
    "Delta_V = 0 # m³, change in volume = 0 Steady-state conditions\n",
    "\n",
    "#Volume budget in this example: P·A = ET·A + Qout,surf + Qout,sub\n",
    "\n",
    "#Step 1    \n",
    "Qin = P*A*10**3  #m³/a, 10^3 for unit conversion\n",
    "\n",
    "#step 2: \n",
    "ET_A = ET*A*10**3 #m³/a, 10^3 for unit conversion\n",
    "\n",
    "#Step 3: \n",
    "Qout_surf = Qout_surf *365*24*3600 #  m³/a\n",
    "\n",
    "# step 4:\n",
    "Qout_sub = Qin - ET_A - Qout_surf # m³/a \n",
    "\n",
    "print(\"The rate of inflow, Qin is {0:1.1E}\".format(Qin),\"m\\u00b3/a\"); print(\"The outflow rate due to EvapoTranspiration is {0:1.1E}\".format(ET_A),\"m\\u00b3/a\")\n",
    "print(\"The surface outflow rate, Qout_surf in m\\u00b3/a is {0:1.1E}\".format(Qout_surf),\"m\\u00b3/a\");print(\"The subsurface outflow rate, Qout_surf in m\\u00b3/a is {0:1.1E}\".format(Qout_sub),\"m\\u00b3/a\")"
   ]
  },
  {
   "cell_type": "markdown",
   "metadata": {
    "slideshow": {
     "slide_type": "slide"
    }
   },
   "source": [
    "### Mass Budget ###\n",
    "\n",
    "$$\\Delta M = J_{in}\\cdot \\Delta t - J_{out} \\cdot \\Delta t$$ \n",
    "\n",
    "with <br>\n",
    "$\\Delta t$ = time interval [T]<br> \n",
    "\t$\\Delta M$ = change of mass in the system [M]<br>\n",
    "\t$J_{in}$ = rate of mass flow into the system [M/T]<br>\n",
    "\t$J_{out}$ = rate of mass flow out of the system [M/T]\n",
    "    \n",
    "+ Inflow and outflow may each consist of several individual components.\n",
    "+ $\\Delta M$ = 0 (no change in mass) is tantamount to steady-state or stationary <br>(= time-independent) conditions.\n",
    "+ For steady-state conditions we have: $J_{in}$= $J_{out}$\n"
   ]
  },
  {
   "cell_type": "markdown",
   "metadata": {
    "slideshow": {
     "slide_type": "slide"
    }
   },
   "source": [
    "### Example: Radioactive Decay ### \n",
    "\n",
    "+ decay chain: A $\\rightarrow$ B $\\rightarrow$ C       <br>                                                                   \n",
    "+ 30% of $\\text{A}$ and 20% of $\\text{B}$  decay each year.<br>\n",
    "\n",
    "+ decay rate of $\\text{A}$   = production rate of $\\text{B}$   = $0.3 \\text{ a$^{-1}$} \\cdot M_A$<br>\n",
    "\n",
    "+ decay rate of $\\text{B}$ = production rate of $\\text{C}$ = $0.2 \\text{ a$^{-1}$} \\cdot M_B$<br>\n",
    "\n",
    "\n",
    "+ mass budgets for $\\text{A}$, $\\text{B}$ and $\\text{C}$:<br>                                 \n",
    "\n",
    "\\begin{array}{}\n",
    "\\Delta M_A &= 0.3 \\text{ a$^{-1}$} \\cdot M_A  \\cdot \\Delta t\\\\\n",
    "\\Delta M_B & = 0.3 \\text{a$^{-1}$} \\cdot M_A  \\cdot \\Delta t  \t- 0.2 \\text{ a$^{-1}$} \\cdot M_B  \\cdot \\Delta t \\\\\n",
    "\\Delta M_C &= 0.2 \\text{a$^{-1}$} \\cdot M_B  \\cdot \\Delta t\n",
    "\\end{array}\n",
    "\n",
    "  \t\n",
    "+ Similar equations hold for quantitative descriptions of some chemical reactions which correspond to the type A $\\rightarrow$ B $\\rightarrow$ C\n"
   ]
  },
  {
   "cell_type": "code",
   "execution_count": 27,
   "metadata": {
    "hide_input": true,
    "scrolled": true,
    "slideshow": {
     "slide_type": "skip"
    }
   },
   "outputs": [
    {
     "name": "stdout",
     "output_type": "stream",
     "text": [
      "decay code here\n"
     ]
    }
   ],
   "source": [
    "# Input \n",
    "n_simulation = 21 # choose the number of simulation\n",
    "A_0 = 1000.0 # g, mass of A at t=0\n",
    "B_0 = 50.0 # g, mass of B at t=0\n",
    "C_0 = 10.0 # g, mass of C at t=0\n",
    "R_A = 0.1 # g/a, decay rate for A\n",
    "R_B = 0.2 # g/a, decay rate for B\n",
    "time  = np.arange(n_simulation) # simulation time = number of simulation at 1 (time unit) interval\n",
    "\n",
    "#initialization\n",
    "A = np.zeros(n_simulation)\n",
    "B = np.zeros(n_simulation)\n",
    "C = np.zeros(n_simulation) \n",
    "A[0] = A_0 \n",
    "B[0] = B_0\n",
    "C[0] = C_0\n",
    "\n",
    "# computation\n",
    "for i in range(0,n_simulation-1):\n",
    "    A[i+1] = A[i]-R_A*A[i]\n",
    "    B[i+1] = B[i]+R_A*A[i]-R_B*B[i] \n",
    "    C[i+1] = C[i]+R_B*B[i]\n",
    "    summ = A[i]+B[i]+C[i]  \n",
    "\n",
    "# Output - Remove the hash # and run\n",
    "\n",
    "#d = {\"Mass_A\": A, \"Mass_B\": B, \"Mass_C\": C, \"Total Mass\": summ}\n",
    "#df = pd.DataFrame(d) # Generating result table\n",
    "#label = [\"Mass A (g)\", \"Mass B (g)\", \"Mass C (g)\"]\n",
    "#fig = plt.figure(figsize=(9,6))\n",
    "#plt.plot(time, A, time, B, time, C, linewidth=3);  # plotting the results\n",
    "#plt.xlabel(\"Time [Time Unit]\"); plt.ylabel(\"Mass [g]\") # placing axis labels\n",
    "#plt.legend(label, loc=0);plt.grid(); plt.xlim([0,20]); plt.ylim(bottom=0) # legends, grids, x,y limits\n",
    "#plt.show() # display plot\n",
    "#df.round(2) #display result table with 2 decimal places \n",
    "\n",
    "def mass_bal(n_simulation, MA, MB, MC, R_A, R_B):\n",
    "    \n",
    "    A = np.zeros(n_simulation)\n",
    "    B = np.zeros(n_simulation)\n",
    "    C = np.zeros(n_simulation) \n",
    "    \n",
    "    for i in range(0,n_simulation-1):\n",
    "        A[0] = MA\n",
    "        B[0] = MB\n",
    "        C[0] = MC\n",
    "        A[i+1] = A[i]-R_A*A[i]\n",
    "        B[i+1] = B[i]+R_A*A[i]-R_B*B[i] \n",
    "        C[i+1] = C[i]+R_B*B[i]\n",
    "        summ = A[i]+B[i]+C[i]\n",
    "        \n",
    "    d = {\"Mass_A\": A, \"Mass_B\": B, \"Mass_C\": C, \"Total Mass\": summ}\n",
    "    df = pd.DataFrame(d) # Generating result table\n",
    "    label = [\"Mass A (g)\", \"Mass B (g)\", \"Mass C (g)\"]\n",
    "    fig = plt.figure(figsize=(6,4))\n",
    "    plt.plot(time, A, time, B, time, C, linewidth=3);  # plotting the results\n",
    "    plt.xlabel(\"Time [Time Unit]\"); plt.ylabel(\"Mass [g]\") # placing axis labels\n",
    "    plt.legend(label, loc=0);plt.grid(); plt.xlim([0,20]); plt.ylim(bottom=0) # legends, grids, x,y limits\n",
    "    plt.show() # display plot\n",
    "    \n",
    "    return df.round(2) \n",
    "print(\"decay code here\")"
   ]
  },
  {
   "cell_type": "code",
   "execution_count": 32,
   "metadata": {
    "hide_input": false,
    "slideshow": {
     "slide_type": "slide"
    }
   },
   "outputs": [
    {
     "data": {
      "image/png": "[encoded data removed]",
      "text/plain": [
       "<Figure size 432x288 with 1 Axes>"
      ]
     },
     "metadata": {
      "needs_background": "light"
     },
     "output_type": "display_data"
    },
    {
     "data": {
      "text/html": [
       "<div>\n",
       "<style scoped>\n",
       "    .dataframe tbody tr th:only-of-type {\n",
       "        vertical-align: middle;\n",
       "    }\n",
       "\n",
       "    .dataframe tbody tr th {\n",
       "        vertical-align: top;\n",
       "    }\n",
       "\n",
       "    .dataframe thead th {\n",
       "        text-align: right;\n",
       "    }\n",
       "</style>\n",
       "<table border=\"1\" class=\"dataframe\">\n",
       "  <thead>\n",
       "    <tr style=\"text-align: right;\">\n",
       "      <th></th>\n",
       "      <th>Mass_A</th>\n",
       "      <th>Mass_B</th>\n",
       "      <th>Mass_C</th>\n",
       "      <th>Total Mass</th>\n",
       "    </tr>\n",
       "  </thead>\n",
       "  <tbody>\n",
       "    <tr>\n",
       "      <th>0</th>\n",
       "      <td>1000.00</td>\n",
       "      <td>0.00</td>\n",
       "      <td>0.00</td>\n",
       "      <td>1000.0</td>\n",
       "    </tr>\n",
       "    <tr>\n",
       "      <th>1</th>\n",
       "      <td>700.00</td>\n",
       "      <td>300.00</td>\n",
       "      <td>0.00</td>\n",
       "      <td>1000.0</td>\n",
       "    </tr>\n",
       "    <tr>\n",
       "      <th>2</th>\n",
       "      <td>490.00</td>\n",
       "      <td>450.00</td>\n",
       "      <td>60.00</td>\n",
       "      <td>1000.0</td>\n",
       "    </tr>\n",
       "    <tr>\n",
       "      <th>3</th>\n",
       "      <td>343.00</td>\n",
       "      <td>507.00</td>\n",
       "      <td>150.00</td>\n",
       "      <td>1000.0</td>\n",
       "    </tr>\n",
       "    <tr>\n",
       "      <th>4</th>\n",
       "      <td>240.10</td>\n",
       "      <td>508.50</td>\n",
       "      <td>251.40</td>\n",
       "      <td>1000.0</td>\n",
       "    </tr>\n",
       "    <tr>\n",
       "      <th>5</th>\n",
       "      <td>168.07</td>\n",
       "      <td>478.83</td>\n",
       "      <td>353.10</td>\n",
       "      <td>1000.0</td>\n",
       "    </tr>\n",
       "    <tr>\n",
       "      <th>6</th>\n",
       "      <td>117.65</td>\n",
       "      <td>433.48</td>\n",
       "      <td>448.87</td>\n",
       "      <td>1000.0</td>\n",
       "    </tr>\n",
       "    <tr>\n",
       "      <th>7</th>\n",
       "      <td>82.35</td>\n",
       "      <td>382.08</td>\n",
       "      <td>535.56</td>\n",
       "      <td>1000.0</td>\n",
       "    </tr>\n",
       "    <tr>\n",
       "      <th>8</th>\n",
       "      <td>57.65</td>\n",
       "      <td>330.37</td>\n",
       "      <td>611.98</td>\n",
       "      <td>1000.0</td>\n",
       "    </tr>\n",
       "    <tr>\n",
       "      <th>9</th>\n",
       "      <td>40.35</td>\n",
       "      <td>281.59</td>\n",
       "      <td>678.05</td>\n",
       "      <td>1000.0</td>\n",
       "    </tr>\n",
       "    <tr>\n",
       "      <th>10</th>\n",
       "      <td>28.25</td>\n",
       "      <td>237.38</td>\n",
       "      <td>734.37</td>\n",
       "      <td>1000.0</td>\n",
       "    </tr>\n",
       "    <tr>\n",
       "      <th>11</th>\n",
       "      <td>19.77</td>\n",
       "      <td>198.38</td>\n",
       "      <td>781.85</td>\n",
       "      <td>1000.0</td>\n",
       "    </tr>\n",
       "    <tr>\n",
       "      <th>12</th>\n",
       "      <td>13.84</td>\n",
       "      <td>164.63</td>\n",
       "      <td>821.52</td>\n",
       "      <td>1000.0</td>\n",
       "    </tr>\n",
       "    <tr>\n",
       "      <th>13</th>\n",
       "      <td>9.69</td>\n",
       "      <td>135.86</td>\n",
       "      <td>854.45</td>\n",
       "      <td>1000.0</td>\n",
       "    </tr>\n",
       "    <tr>\n",
       "      <th>14</th>\n",
       "      <td>6.78</td>\n",
       "      <td>111.59</td>\n",
       "      <td>881.62</td>\n",
       "      <td>1000.0</td>\n",
       "    </tr>\n",
       "    <tr>\n",
       "      <th>15</th>\n",
       "      <td>4.75</td>\n",
       "      <td>91.31</td>\n",
       "      <td>903.94</td>\n",
       "      <td>1000.0</td>\n",
       "    </tr>\n",
       "    <tr>\n",
       "      <th>16</th>\n",
       "      <td>3.32</td>\n",
       "      <td>74.47</td>\n",
       "      <td>922.20</td>\n",
       "      <td>1000.0</td>\n",
       "    </tr>\n",
       "    <tr>\n",
       "      <th>17</th>\n",
       "      <td>2.33</td>\n",
       "      <td>60.58</td>\n",
       "      <td>937.10</td>\n",
       "      <td>1000.0</td>\n",
       "    </tr>\n",
       "    <tr>\n",
       "      <th>18</th>\n",
       "      <td>1.63</td>\n",
       "      <td>49.16</td>\n",
       "      <td>949.21</td>\n",
       "      <td>1000.0</td>\n",
       "    </tr>\n",
       "    <tr>\n",
       "      <th>19</th>\n",
       "      <td>1.14</td>\n",
       "      <td>39.81</td>\n",
       "      <td>959.05</td>\n",
       "      <td>1000.0</td>\n",
       "    </tr>\n",
       "    <tr>\n",
       "      <th>20</th>\n",
       "      <td>0.80</td>\n",
       "      <td>32.19</td>\n",
       "      <td>967.01</td>\n",
       "      <td>1000.0</td>\n",
       "    </tr>\n",
       "  </tbody>\n",
       "</table>\n",
       "</div>"
      ],
      "text/plain": [
       "     Mass_A  Mass_B  Mass_C  Total Mass\n",
       "0   1000.00    0.00    0.00      1000.0\n",
       "1    700.00  300.00    0.00      1000.0\n",
       "2    490.00  450.00   60.00      1000.0\n",
       "3    343.00  507.00  150.00      1000.0\n",
       "4    240.10  508.50  251.40      1000.0\n",
       "5    168.07  478.83  353.10      1000.0\n",
       "6    117.65  433.48  448.87      1000.0\n",
       "7     82.35  382.08  535.56      1000.0\n",
       "8     57.65  330.37  611.98      1000.0\n",
       "9     40.35  281.59  678.05      1000.0\n",
       "10    28.25  237.38  734.37      1000.0\n",
       "11    19.77  198.38  781.85      1000.0\n",
       "12    13.84  164.63  821.52      1000.0\n",
       "13     9.69  135.86  854.45      1000.0\n",
       "14     6.78  111.59  881.62      1000.0\n",
       "15     4.75   91.31  903.94      1000.0\n",
       "16     3.32   74.47  922.20      1000.0\n",
       "17     2.33   60.58  937.10      1000.0\n",
       "18     1.63   49.16  949.21      1000.0\n",
       "19     1.14   39.81  959.05      1000.0\n",
       "20     0.80   32.19  967.01      1000.0"
      ]
     },
     "execution_count": 32,
     "metadata": {},
     "output_type": "execute_result"
    }
   ],
   "source": [
    "## Example: Radioactive Decay## \n",
    "n_simulation = 21 # h, smulation per unit time (e.g 1 h ) interval\n",
    "MA = 1000 # g, Mass on A at t = 0, can be any number\n",
    "MB = 0 # g, Mass on B at t = 0, can be any number\n",
    "MC = 0 # g, Mass on C at t = 0, can be any number\n",
    "R_A = 0.3 # 1/a decay rate of A, can be any number\n",
    "R_B = 0.2 # 1/a decay rate of B, can be any number\n",
    "\n",
    "# Code\n",
    "mass_bal(n_simulation, MA, MB, MC, R_A, R_B)\n",
    "    "
   ]
  },
  {
   "cell_type": "markdown",
   "metadata": {
    "slideshow": {
     "slide_type": "slide"
    }
   },
   "source": [
    "### Comparison of Mass and Volume Budgets ###\n",
    "\n",
    "**mass budget**:\t$\\Delta M = J_{in} \\cdot \\Delta t - J-{out} \\cdot \\Delta t$\n",
    "\n",
    "**volume budget**:\t$\\Delta V = Q_{in} \\cdot \\Delta t - Q_{out} \\cdot \\Delta t $\n",
    "\n",
    "\n",
    "+ Mass and volume budgets are equivalent if there is no change of density $\\rho$ [M/L$^3$] with time. In this case the well known relationship ΔM = $\\rho \\cdot \\Delta V$ holds and each equation given above can be directly transformed into the other one.\n",
    "\n",
    "\n",
    "+ If density changes have to be considered (e.g. for gas flow), the mass budget equation remains valid but the volume budget equation must be modified because $\\Delta M = \\rho \\cdot \\Delta V + \\Delta \\rho \\cdot V$ with $\\Delta \\rho$= change in density.\n",
    "\n",
    "\n",
    "+ Cases with changing density have proven to be more easily tractable if the mass budget equation is used.\n",
    "\n"
   ]
  }
 ],
 "metadata": {
  "celltoolbar": "Slideshow",
  "hide_input": false,
  "kernelspec": {
   "display_name": "Python 3",
   "language": "python",
   "name": "python3"
  },
  "language_info": {
   "codemirror_mode": {
    "name": "ipython",
    "version": 3
   },
   "file_extension": ".py",
   "mimetype": "text/x-python",
   "name": "python",
   "nbconvert_exporter": "python",
   "pygments_lexer": "ipython3",
   "version": "3.6.7"
  },
  "latex_envs": {
   "LaTeX_envs_menu_present": true,
   "autoclose": false,
   "autocomplete": false,
   "bibliofile": "biblio.bib",
   "cite_by": "apalike",
   "current_citInitial": 1,
   "eqLabelWithNumbers": false,
   "eqNumInitial": 1,
   "hotkeys": {
    "equation": "Ctrl-E",
    "itemize": "Ctrl-I"
   },
   "labels_anchors": false,
   "latex_user_defs": false,
   "report_style_numbering": false,
   "user_envs_cfg": false
  },
  "varInspector": {
   "cols": {
    "lenName": 16,
    "lenType": 16,
    "lenVar": 40
   },
   "kernels_config": {
    "python": {
     "delete_cmd_postfix": "",
     "delete_cmd_prefix": "del ",
     "library": "var_list.py",
     "varRefreshCmd": "print(var_dic_list())"
    },
    "r": {
     "delete_cmd_postfix": ") ",
     "delete_cmd_prefix": "rm(",
     "library": "var_list.r",
     "varRefreshCmd": "cat(var_dic_list()) "
    }
   },
   "types_to_exclude": [
    "module",
    "function",
    "builtin_function_or_method",
    "instance",
    "_Feature"
   ],
   "window_display": false
  }
 },
 "nbformat": 4,
 "nbformat_minor": 2
}
