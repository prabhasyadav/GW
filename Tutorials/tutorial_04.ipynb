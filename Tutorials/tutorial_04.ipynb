{
 "cells": [
  {
   "cell_type": "code",
   "execution_count": 1,
   "metadata": {
    "ExecuteTime": {
     "end_time": "2021-11-08T08:56:30.983841Z",
     "start_time": "2021-11-08T08:56:29.913170Z"
    },
    "hide_input": false,
    "slideshow": {
     "slide_type": "skip"
    }
   },
   "outputs": [
    {
     "data": {
      "application/javascript": [
       "\n",
       "(function(root) {\n",
       "  function now() {\n",
       "    return new Date();\n",
       "  }\n",
       "\n",
       "  var force = true;\n",
       "\n",
       "  if (typeof root._bokeh_onload_callbacks === \"undefined\" || force === true) {\n",
       "    root._bokeh_onload_callbacks = [];\n",
       "    root._bokeh_is_loading = undefined;\n",
       "  }\n",
       "\n",
       "  if (typeof (root._bokeh_timeout) === \"undefined\" || force === true) {\n",
       "    root._bokeh_timeout = Date.now() + 5000;\n",
       "    root._bokeh_failed_load = false;\n",
       "  }\n",
       "\n",
       "  function run_callbacks() {\n",
       "    try {\n",
       "      root._bokeh_onload_callbacks.forEach(function(callback) {\n",
       "        if (callback != null)\n",
       "          callback();\n",
       "      });\n",
       "    } finally {\n",
       "      delete root._bokeh_onload_callbacks\n",
       "    }\n",
       "    console.debug(\"Bokeh: all callbacks have finished\");\n",
       "  }\n",
       "\n",
       "  function load_libs(css_urls, js_urls, js_modules, callback) {\n",
       "    if (css_urls == null) css_urls = [];\n",
       "    if (js_urls == null) js_urls = [];\n",
       "    if (js_modules == null) js_modules = [];\n",
       "\n",
       "    root._bokeh_onload_callbacks.push(callback);\n",
       "    if (root._bokeh_is_loading > 0) {\n",
       "      console.debug(\"Bokeh: BokehJS is being loaded, scheduling callback at\", now());\n",
       "      return null;\n",
       "    }\n",
       "    if (js_urls.length === 0 && js_modules.length === 0) {\n",
       "      run_callbacks();\n",
       "      return null;\n",
       "    }\n",
       "    console.debug(\"Bokeh: BokehJS not loaded, scheduling load and callback at\", now());\n",
       "    root._bokeh_is_loading = css_urls.length + js_urls.length + js_modules.length;\n",
       "\n",
       "    function on_load() {\n",
       "      root._bokeh_is_loading--;\n",
       "      if (root._bokeh_is_loading === 0) {\n",
       "        console.debug(\"Bokeh: all BokehJS libraries/stylesheets loaded\");\n",
       "        run_callbacks()\n",
       "      }\n",
       "    }\n",
       "\n",
       "    function on_error() {\n",
       "      console.error(\"failed to load \" + url);\n",
       "    }\n",
       "\n",
       "    for (var i = 0; i < css_urls.length; i++) {\n",
       "      var url = css_urls[i];\n",
       "      const element = document.createElement(\"link\");\n",
       "      element.onload = on_load;\n",
       "      element.onerror = on_error;\n",
       "      element.rel = \"stylesheet\";\n",
       "      element.type = \"text/css\";\n",
       "      element.href = url;\n",
       "      console.debug(\"Bokeh: injecting link tag for BokehJS stylesheet: \", url);\n",
       "      document.body.appendChild(element);\n",
       "    }\n",
       "\n",
       "    var skip = [];\n",
       "    if (window.requirejs) {\n",
       "      window.requirejs.config({'packages': {}, 'paths': {'katex': 'https://cdnjs.cloudflare.com/ajax/libs/KaTeX/0.6.0/katex.min', 'autoLoad': 'https://cdn.jsdelivr.net/npm/katex@0.10.1/dist/contrib/auto-render.min'}, 'shim': {}});\n",
       "      \n",
       "      require([\"katex\"], function(katex) {\n",
       "\twindow.katex = katex\n",
       "      })\n",
       "      \n",
       "      require([\"autoLoad\"], function(renderMathInElement) {\n",
       "\twindow.renderMathInElement = renderMathInElement\n",
       "      })\n",
       "      \n",
       "    }\n",
       "    if (((window['katex'] !== undefined) && (!(window['katex'] instanceof HTMLElement))) || window.requirejs) {\n",
       "      var urls = ['https://cdnjs.cloudflare.com/ajax/libs/KaTeX/0.6.0/katex.min.js'];\n",
       "      for (var i = 0; i < urls.length; i++) {\n",
       "        skip.push(urls[i])\n",
       "      }\n",
       "    }\n",
       "    if (((window['renderMathInElement'] !== undefined) && (!(window['renderMathInElement'] instanceof HTMLElement))) || window.requirejs) {\n",
       "      var urls = ['https://cdn.jsdelivr.net/npm/katex@0.10.1/dist/contrib/auto-render.min.js'];\n",
       "      for (var i = 0; i < urls.length; i++) {\n",
       "        skip.push(urls[i])\n",
       "      }\n",
       "    }\n",
       "    for (var i = 0; i < js_urls.length; i++) {\n",
       "      var url = js_urls[i];\n",
       "      if (skip.indexOf(url) >= 0) { on_load(); continue; }\n",
       "      var element = document.createElement('script');\n",
       "      element.onload = on_load;\n",
       "      element.onerror = on_error;\n",
       "      element.async = false;\n",
       "      element.src = url;\n",
       "      console.debug(\"Bokeh: injecting script tag for BokehJS library: \", url);\n",
       "      document.head.appendChild(element);\n",
       "    }\n",
       "    for (var i = 0; i < js_modules.length; i++) {\n",
       "      var url = js_modules[i];\n",
       "      if (skip.indexOf(url) >= 0) { on_load(); continue; }\n",
       "      var element = document.createElement('script');\n",
       "      element.onload = on_load;\n",
       "      element.onerror = on_error;\n",
       "      element.async = false;\n",
       "      element.src = url;\n",
       "      element.type = \"module\";\n",
       "      console.debug(\"Bokeh: injecting script tag for BokehJS library: \", url);\n",
       "      document.head.appendChild(element);\n",
       "    }\n",
       "    if (!js_urls.length && !js_modules.length) {\n",
       "      on_load()\n",
       "    }\n",
       "  };\n",
       "\n",
       "  function inject_raw_css(css) {\n",
       "    const element = document.createElement(\"style\");\n",
       "    element.appendChild(document.createTextNode(css));\n",
       "    document.body.appendChild(element);\n",
       "  }\n",
       "\n",
       "  var js_urls = [\"https://cdnjs.cloudflare.com/ajax/libs/KaTeX/0.6.0/katex.min.js\", \"https://cdn.jsdelivr.net/npm/katex@0.10.1/dist/contrib/auto-render.min.js\", \"https://cdn.bokeh.org/bokeh/release/bokeh-2.3.2.min.js\", \"https://cdn.bokeh.org/bokeh/release/bokeh-widgets-2.3.2.min.js\", \"https://cdn.bokeh.org/bokeh/release/bokeh-tables-2.3.2.min.js\", \"https://unpkg.com/@holoviz/panel@^0.12.1/dist/panel.min.js\"];\n",
       "  var js_modules = [];\n",
       "  var css_urls = [\"https://cdnjs.cloudflare.com/ajax/libs/KaTeX/0.6.0/katex.min.css\", \"https://unpkg.com/@holoviz/panel@0.12.1/dist/css/alerts.css\", \"https://unpkg.com/@holoviz/panel@0.12.1/dist/css/card.css\", \"https://unpkg.com/@holoviz/panel@0.12.1/dist/css/dataframe.css\", \"https://unpkg.com/@holoviz/panel@0.12.1/dist/css/json.css\", \"https://unpkg.com/@holoviz/panel@0.12.1/dist/css/loading.css\", \"https://unpkg.com/@holoviz/panel@0.12.1/dist/css/markdown.css\", \"https://unpkg.com/@holoviz/panel@0.12.1/dist/css/widgets.css\"];\n",
       "  var inline_js = [\n",
       "    function(Bokeh) {\n",
       "      inject_raw_css(\"\\n    .bk.pn-loading.arcs:before {\\n      background-image: url(\\\"data:image/svg+xml;base64,PHN2ZyB4bWxucz0iaHR0cDovL3d3dy53My5vcmcvMjAwMC9zdmciIHhtbG5zOnhsaW5rPSJodHRwOi8vd3d3LnczLm9yZy8xOTk5L3hsaW5rIiBzdHlsZT0ibWFyZ2luOiBhdXRvOyBiYWNrZ3JvdW5kOiBub25lOyBkaXNwbGF5OiBibG9jazsgc2hhcGUtcmVuZGVyaW5nOiBhdXRvOyIgdmlld0JveD0iMCAwIDEwMCAxMDAiIHByZXNlcnZlQXNwZWN0UmF0aW89InhNaWRZTWlkIj4gIDxjaXJjbGUgY3g9IjUwIiBjeT0iNTAiIHI9IjMyIiBzdHJva2Utd2lkdGg9IjgiIHN0cm9rZT0iI2MzYzNjMyIgc3Ryb2tlLWRhc2hhcnJheT0iNTAuMjY1NDgyNDU3NDM2NjkgNTAuMjY1NDgyNDU3NDM2NjkiIGZpbGw9Im5vbmUiIHN0cm9rZS1saW5lY2FwPSJyb3VuZCI+ICAgIDxhbmltYXRlVHJhbnNmb3JtIGF0dHJpYnV0ZU5hbWU9InRyYW5zZm9ybSIgdHlwZT0icm90YXRlIiByZXBlYXRDb3VudD0iaW5kZWZpbml0ZSIgZHVyPSIxcyIga2V5VGltZXM9IjA7MSIgdmFsdWVzPSIwIDUwIDUwOzM2MCA1MCA1MCI+PC9hbmltYXRlVHJhbnNmb3JtPiAgPC9jaXJjbGU+PC9zdmc+\\\")\\n    }\\n    \");\n",
       "    },\n",
       "    function(Bokeh) {\n",
       "      Bokeh.set_log_level(\"info\");\n",
       "    },\n",
       "    function(Bokeh) {} // ensure no trailing comma for IE\n",
       "  ];\n",
       "\n",
       "  function run_inline_js() {\n",
       "    if ((root.Bokeh !== undefined) || (force === true)) {\n",
       "      for (var i = 0; i < inline_js.length; i++) {\n",
       "        inline_js[i].call(root, root.Bokeh);\n",
       "      }} else if (Date.now() < root._bokeh_timeout) {\n",
       "      setTimeout(run_inline_js, 100);\n",
       "    } else if (!root._bokeh_failed_load) {\n",
       "      console.log(\"Bokeh: BokehJS failed to load within specified timeout.\");\n",
       "      root._bokeh_failed_load = true;\n",
       "    }\n",
       "  }\n",
       "\n",
       "  if (root._bokeh_is_loading === 0) {\n",
       "    console.debug(\"Bokeh: BokehJS loaded, going straight to plotting\");\n",
       "    run_inline_js();\n",
       "  } else {\n",
       "    load_libs(css_urls, js_urls, js_modules, function() {\n",
       "      console.debug(\"Bokeh: BokehJS plotting callback run at\", now());\n",
       "      run_inline_js();\n",
       "    });\n",
       "  }\n",
       "}(window));"
      ],
      "application/vnd.holoviews_load.v0+json": "\n(function(root) {\n  function now() {\n    return new Date();\n  }\n\n  var force = true;\n\n  if (typeof root._bokeh_onload_callbacks === \"undefined\" || force === true) {\n    root._bokeh_onload_callbacks = [];\n    root._bokeh_is_loading = undefined;\n  }\n\n  if (typeof (root._bokeh_timeout) === \"undefined\" || force === true) {\n    root._bokeh_timeout = Date.now() + 5000;\n    root._bokeh_failed_load = false;\n  }\n\n  function run_callbacks() {\n    try {\n      root._bokeh_onload_callbacks.forEach(function(callback) {\n        if (callback != null)\n          callback();\n      });\n    } finally {\n      delete root._bokeh_onload_callbacks\n    }\n    console.debug(\"Bokeh: all callbacks have finished\");\n  }\n\n  function load_libs(css_urls, js_urls, js_modules, callback) {\n    if (css_urls == null) css_urls = [];\n    if (js_urls == null) js_urls = [];\n    if (js_modules == null) js_modules = [];\n\n    root._bokeh_onload_callbacks.push(callback);\n    if (root._bokeh_is_loading > 0) {\n      console.debug(\"Bokeh: BokehJS is being loaded, scheduling callback at\", now());\n      return null;\n    }\n    if (js_urls.length === 0 && js_modules.length === 0) {\n      run_callbacks();\n      return null;\n    }\n    console.debug(\"Bokeh: BokehJS not loaded, scheduling load and callback at\", now());\n    root._bokeh_is_loading = css_urls.length + js_urls.length + js_modules.length;\n\n    function on_load() {\n      root._bokeh_is_loading--;\n      if (root._bokeh_is_loading === 0) {\n        console.debug(\"Bokeh: all BokehJS libraries/stylesheets loaded\");\n        run_callbacks()\n      }\n    }\n\n    function on_error() {\n      console.error(\"failed to load \" + url);\n    }\n\n    for (var i = 0; i < css_urls.length; i++) {\n      var url = css_urls[i];\n      const element = document.createElement(\"link\");\n      element.onload = on_load;\n      element.onerror = on_error;\n      element.rel = \"stylesheet\";\n      element.type = \"text/css\";\n      element.href = url;\n      console.debug(\"Bokeh: injecting link tag for BokehJS stylesheet: \", url);\n      document.body.appendChild(element);\n    }\n\n    var skip = [];\n    if (window.requirejs) {\n      window.requirejs.config({'packages': {}, 'paths': {'katex': 'https://cdnjs.cloudflare.com/ajax/libs/KaTeX/0.6.0/katex.min', 'autoLoad': 'https://cdn.jsdelivr.net/npm/katex@0.10.1/dist/contrib/auto-render.min'}, 'shim': {}});\n      \n      require([\"katex\"], function(katex) {\n\twindow.katex = katex\n      })\n      \n      require([\"autoLoad\"], function(renderMathInElement) {\n\twindow.renderMathInElement = renderMathInElement\n      })\n      \n    }\n    if (((window['katex'] !== undefined) && (!(window['katex'] instanceof HTMLElement))) || window.requirejs) {\n      var urls = ['https://cdnjs.cloudflare.com/ajax/libs/KaTeX/0.6.0/katex.min.js'];\n      for (var i = 0; i < urls.length; i++) {\n        skip.push(urls[i])\n      }\n    }\n    if (((window['renderMathInElement'] !== undefined) && (!(window['renderMathInElement'] instanceof HTMLElement))) || window.requirejs) {\n      var urls = ['https://cdn.jsdelivr.net/npm/katex@0.10.1/dist/contrib/auto-render.min.js'];\n      for (var i = 0; i < urls.length; i++) {\n        skip.push(urls[i])\n      }\n    }\n    for (var i = 0; i < js_urls.length; i++) {\n      var url = js_urls[i];\n      if (skip.indexOf(url) >= 0) { on_load(); continue; }\n      var element = document.createElement('script');\n      element.onload = on_load;\n      element.onerror = on_error;\n      element.async = false;\n      element.src = url;\n      console.debug(\"Bokeh: injecting script tag for BokehJS library: \", url);\n      document.head.appendChild(element);\n    }\n    for (var i = 0; i < js_modules.length; i++) {\n      var url = js_modules[i];\n      if (skip.indexOf(url) >= 0) { on_load(); continue; }\n      var element = document.createElement('script');\n      element.onload = on_load;\n      element.onerror = on_error;\n      element.async = false;\n      element.src = url;\n      element.type = \"module\";\n      console.debug(\"Bokeh: injecting script tag for BokehJS library: \", url);\n      document.head.appendChild(element);\n    }\n    if (!js_urls.length && !js_modules.length) {\n      on_load()\n    }\n  };\n\n  function inject_raw_css(css) {\n    const element = document.createElement(\"style\");\n    element.appendChild(document.createTextNode(css));\n    document.body.appendChild(element);\n  }\n\n  var js_urls = [\"https://cdnjs.cloudflare.com/ajax/libs/KaTeX/0.6.0/katex.min.js\", \"https://cdn.jsdelivr.net/npm/katex@0.10.1/dist/contrib/auto-render.min.js\", \"https://cdn.bokeh.org/bokeh/release/bokeh-2.3.2.min.js\", \"https://cdn.bokeh.org/bokeh/release/bokeh-widgets-2.3.2.min.js\", \"https://cdn.bokeh.org/bokeh/release/bokeh-tables-2.3.2.min.js\", \"https://unpkg.com/@holoviz/panel@^0.12.1/dist/panel.min.js\"];\n  var js_modules = [];\n  var css_urls = [\"https://cdnjs.cloudflare.com/ajax/libs/KaTeX/0.6.0/katex.min.css\", \"https://unpkg.com/@holoviz/panel@0.12.1/dist/css/alerts.css\", \"https://unpkg.com/@holoviz/panel@0.12.1/dist/css/card.css\", \"https://unpkg.com/@holoviz/panel@0.12.1/dist/css/dataframe.css\", \"https://unpkg.com/@holoviz/panel@0.12.1/dist/css/json.css\", \"https://unpkg.com/@holoviz/panel@0.12.1/dist/css/loading.css\", \"https://unpkg.com/@holoviz/panel@0.12.1/dist/css/markdown.css\", \"https://unpkg.com/@holoviz/panel@0.12.1/dist/css/widgets.css\"];\n  var inline_js = [\n    function(Bokeh) {\n      inject_raw_css(\"\\n    .bk.pn-loading.arcs:before {\\n      background-image: url(\\\"data:image/svg+xml;base64,PHN2ZyB4bWxucz0iaHR0cDovL3d3dy53My5vcmcvMjAwMC9zdmciIHhtbG5zOnhsaW5rPSJodHRwOi8vd3d3LnczLm9yZy8xOTk5L3hsaW5rIiBzdHlsZT0ibWFyZ2luOiBhdXRvOyBiYWNrZ3JvdW5kOiBub25lOyBkaXNwbGF5OiBibG9jazsgc2hhcGUtcmVuZGVyaW5nOiBhdXRvOyIgdmlld0JveD0iMCAwIDEwMCAxMDAiIHByZXNlcnZlQXNwZWN0UmF0aW89InhNaWRZTWlkIj4gIDxjaXJjbGUgY3g9IjUwIiBjeT0iNTAiIHI9IjMyIiBzdHJva2Utd2lkdGg9IjgiIHN0cm9rZT0iI2MzYzNjMyIgc3Ryb2tlLWRhc2hhcnJheT0iNTAuMjY1NDgyNDU3NDM2NjkgNTAuMjY1NDgyNDU3NDM2NjkiIGZpbGw9Im5vbmUiIHN0cm9rZS1saW5lY2FwPSJyb3VuZCI+ICAgIDxhbmltYXRlVHJhbnNmb3JtIGF0dHJpYnV0ZU5hbWU9InRyYW5zZm9ybSIgdHlwZT0icm90YXRlIiByZXBlYXRDb3VudD0iaW5kZWZpbml0ZSIgZHVyPSIxcyIga2V5VGltZXM9IjA7MSIgdmFsdWVzPSIwIDUwIDUwOzM2MCA1MCA1MCI+PC9hbmltYXRlVHJhbnNmb3JtPiAgPC9jaXJjbGU+PC9zdmc+\\\")\\n    }\\n    \");\n    },\n    function(Bokeh) {\n      Bokeh.set_log_level(\"info\");\n    },\n    function(Bokeh) {} // ensure no trailing comma for IE\n  ];\n\n  function run_inline_js() {\n    if ((root.Bokeh !== undefined) || (force === true)) {\n      for (var i = 0; i < inline_js.length; i++) {\n        inline_js[i].call(root, root.Bokeh);\n      }} else if (Date.now() < root._bokeh_timeout) {\n      setTimeout(run_inline_js, 100);\n    } else if (!root._bokeh_failed_load) {\n      console.log(\"Bokeh: BokehJS failed to load within specified timeout.\");\n      root._bokeh_failed_load = true;\n    }\n  }\n\n  if (root._bokeh_is_loading === 0) {\n    console.debug(\"Bokeh: BokehJS loaded, going straight to plotting\");\n    run_inline_js();\n  } else {\n    load_libs(css_urls, js_urls, js_modules, function() {\n      console.debug(\"Bokeh: BokehJS plotting callback run at\", now());\n      run_inline_js();\n    });\n  }\n}(window));"
     },
     "metadata": {},
     "output_type": "display_data"
    },
    {
     "data": {
      "application/javascript": [
       "\n",
       "if ((window.PyViz === undefined) || (window.PyViz instanceof HTMLElement)) {\n",
       "  window.PyViz = {comms: {}, comm_status:{}, kernels:{}, receivers: {}, plot_index: []}\n",
       "}\n",
       "\n",
       "\n",
       "    function JupyterCommManager() {\n",
       "    }\n",
       "\n",
       "    JupyterCommManager.prototype.register_target = function(plot_id, comm_id, msg_handler) {\n",
       "      if (window.comm_manager || ((window.Jupyter !== undefined) && (Jupyter.notebook.kernel != null))) {\n",
       "        var comm_manager = window.comm_manager || Jupyter.notebook.kernel.comm_manager;\n",
       "        comm_manager.register_target(comm_id, function(comm) {\n",
       "          comm.on_msg(msg_handler);\n",
       "        });\n",
       "      } else if ((plot_id in window.PyViz.kernels) && (window.PyViz.kernels[plot_id])) {\n",
       "        window.PyViz.kernels[plot_id].registerCommTarget(comm_id, function(comm) {\n",
       "          comm.onMsg = msg_handler;\n",
       "        });\n",
       "      } else if (typeof google != 'undefined' && google.colab.kernel != null) {\n",
       "        google.colab.kernel.comms.registerTarget(comm_id, (comm) => {\n",
       "          var messages = comm.messages[Symbol.asyncIterator]();\n",
       "          function processIteratorResult(result) {\n",
       "            var message = result.value;\n",
       "            console.log(message)\n",
       "            var content = {data: message.data, comm_id};\n",
       "            var buffers = []\n",
       "            for (var buffer of message.buffers || []) {\n",
       "              buffers.push(new DataView(buffer))\n",
       "            }\n",
       "            var metadata = message.metadata || {};\n",
       "            var msg = {content, buffers, metadata}\n",
       "            msg_handler(msg);\n",
       "            return messages.next().then(processIteratorResult);\n",
       "          }\n",
       "          return messages.next().then(processIteratorResult);\n",
       "        })\n",
       "      }\n",
       "    }\n",
       "\n",
       "    JupyterCommManager.prototype.get_client_comm = function(plot_id, comm_id, msg_handler) {\n",
       "      if (comm_id in window.PyViz.comms) {\n",
       "        return window.PyViz.comms[comm_id];\n",
       "      } else if (window.comm_manager || ((window.Jupyter !== undefined) && (Jupyter.notebook.kernel != null))) {\n",
       "        var comm_manager = window.comm_manager || Jupyter.notebook.kernel.comm_manager;\n",
       "        var comm = comm_manager.new_comm(comm_id, {}, {}, {}, comm_id);\n",
       "        if (msg_handler) {\n",
       "          comm.on_msg(msg_handler);\n",
       "        }\n",
       "      } else if ((plot_id in window.PyViz.kernels) && (window.PyViz.kernels[plot_id])) {\n",
       "        var comm = window.PyViz.kernels[plot_id].connectToComm(comm_id);\n",
       "        comm.open();\n",
       "        if (msg_handler) {\n",
       "          comm.onMsg = msg_handler;\n",
       "        }\n",
       "      } else if (typeof google != 'undefined' && google.colab.kernel != null) {\n",
       "        var comm_promise = google.colab.kernel.comms.open(comm_id)\n",
       "        comm_promise.then((comm) => {\n",
       "          window.PyViz.comms[comm_id] = comm;\n",
       "          if (msg_handler) {\n",
       "            var messages = comm.messages[Symbol.asyncIterator]();\n",
       "            function processIteratorResult(result) {\n",
       "              var message = result.value;\n",
       "              var content = {data: message.data};\n",
       "              var metadata = message.metadata || {comm_id};\n",
       "              var msg = {content, metadata}\n",
       "              msg_handler(msg);\n",
       "              return messages.next().then(processIteratorResult);\n",
       "            }\n",
       "            return messages.next().then(processIteratorResult);\n",
       "          }\n",
       "        }) \n",
       "        var sendClosure = (data, metadata, buffers, disposeOnDone) => {\n",
       "          return comm_promise.then((comm) => {\n",
       "            comm.send(data, metadata, buffers, disposeOnDone);\n",
       "          });\n",
       "        };\n",
       "        var comm = {\n",
       "          send: sendClosure\n",
       "        };\n",
       "      }\n",
       "      window.PyViz.comms[comm_id] = comm;\n",
       "      return comm;\n",
       "    }\n",
       "    window.PyViz.comm_manager = new JupyterCommManager();\n",
       "    \n",
       "\n",
       "\n",
       "var JS_MIME_TYPE = 'application/javascript';\n",
       "var HTML_MIME_TYPE = 'text/html';\n",
       "var EXEC_MIME_TYPE = 'application/vnd.holoviews_exec.v0+json';\n",
       "var CLASS_NAME = 'output';\n",
       "\n",
       "/**\n",
       " * Render data to the DOM node\n",
       " */\n",
       "function render(props, node) {\n",
       "  var div = document.createElement(\"div\");\n",
       "  var script = document.createElement(\"script\");\n",
       "  node.appendChild(div);\n",
       "  node.appendChild(script);\n",
       "}\n",
       "\n",
       "/**\n",
       " * Handle when a new output is added\n",
       " */\n",
       "function handle_add_output(event, handle) {\n",
       "  var output_area = handle.output_area;\n",
       "  var output = handle.output;\n",
       "  if ((output.data == undefined) || (!output.data.hasOwnProperty(EXEC_MIME_TYPE))) {\n",
       "    return\n",
       "  }\n",
       "  var id = output.metadata[EXEC_MIME_TYPE][\"id\"];\n",
       "  var toinsert = output_area.element.find(\".\" + CLASS_NAME.split(' ')[0]);\n",
       "  if (id !== undefined) {\n",
       "    var nchildren = toinsert.length;\n",
       "    var html_node = toinsert[nchildren-1].children[0];\n",
       "    html_node.innerHTML = output.data[HTML_MIME_TYPE];\n",
       "    var scripts = [];\n",
       "    var nodelist = html_node.querySelectorAll(\"script\");\n",
       "    for (var i in nodelist) {\n",
       "      if (nodelist.hasOwnProperty(i)) {\n",
       "        scripts.push(nodelist[i])\n",
       "      }\n",
       "    }\n",
       "\n",
       "    scripts.forEach( function (oldScript) {\n",
       "      var newScript = document.createElement(\"script\");\n",
       "      var attrs = [];\n",
       "      var nodemap = oldScript.attributes;\n",
       "      for (var j in nodemap) {\n",
       "        if (nodemap.hasOwnProperty(j)) {\n",
       "          attrs.push(nodemap[j])\n",
       "        }\n",
       "      }\n",
       "      attrs.forEach(function(attr) { newScript.setAttribute(attr.name, attr.value) });\n",
       "      newScript.appendChild(document.createTextNode(oldScript.innerHTML));\n",
       "      oldScript.parentNode.replaceChild(newScript, oldScript);\n",
       "    });\n",
       "    if (JS_MIME_TYPE in output.data) {\n",
       "      toinsert[nchildren-1].children[1].textContent = output.data[JS_MIME_TYPE];\n",
       "    }\n",
       "    output_area._hv_plot_id = id;\n",
       "    if ((window.Bokeh !== undefined) && (id in Bokeh.index)) {\n",
       "      window.PyViz.plot_index[id] = Bokeh.index[id];\n",
       "    } else {\n",
       "      window.PyViz.plot_index[id] = null;\n",
       "    }\n",
       "  } else if (output.metadata[EXEC_MIME_TYPE][\"server_id\"] !== undefined) {\n",
       "    var bk_div = document.createElement(\"div\");\n",
       "    bk_div.innerHTML = output.data[HTML_MIME_TYPE];\n",
       "    var script_attrs = bk_div.children[0].attributes;\n",
       "    for (var i = 0; i < script_attrs.length; i++) {\n",
       "      toinsert[toinsert.length - 1].childNodes[1].setAttribute(script_attrs[i].name, script_attrs[i].value);\n",
       "    }\n",
       "    // store reference to server id on output_area\n",
       "    output_area._bokeh_server_id = output.metadata[EXEC_MIME_TYPE][\"server_id\"];\n",
       "  }\n",
       "}\n",
       "\n",
       "/**\n",
       " * Handle when an output is cleared or removed\n",
       " */\n",
       "function handle_clear_output(event, handle) {\n",
       "  var id = handle.cell.output_area._hv_plot_id;\n",
       "  var server_id = handle.cell.output_area._bokeh_server_id;\n",
       "  if (((id === undefined) || !(id in PyViz.plot_index)) && (server_id !== undefined)) { return; }\n",
       "  var comm = window.PyViz.comm_manager.get_client_comm(\"hv-extension-comm\", \"hv-extension-comm\", function () {});\n",
       "  if (server_id !== null) {\n",
       "    comm.send({event_type: 'server_delete', 'id': server_id});\n",
       "    return;\n",
       "  } else if (comm !== null) {\n",
       "    comm.send({event_type: 'delete', 'id': id});\n",
       "  }\n",
       "  delete PyViz.plot_index[id];\n",
       "  if ((window.Bokeh !== undefined) & (id in window.Bokeh.index)) {\n",
       "    var doc = window.Bokeh.index[id].model.document\n",
       "    doc.clear();\n",
       "    const i = window.Bokeh.documents.indexOf(doc);\n",
       "    if (i > -1) {\n",
       "      window.Bokeh.documents.splice(i, 1);\n",
       "    }\n",
       "  }\n",
       "}\n",
       "\n",
       "/**\n",
       " * Handle kernel restart event\n",
       " */\n",
       "function handle_kernel_cleanup(event, handle) {\n",
       "  delete PyViz.comms[\"hv-extension-comm\"];\n",
       "  window.PyViz.plot_index = {}\n",
       "}\n",
       "\n",
       "/**\n",
       " * Handle update_display_data messages\n",
       " */\n",
       "function handle_update_output(event, handle) {\n",
       "  handle_clear_output(event, {cell: {output_area: handle.output_area}})\n",
       "  handle_add_output(event, handle)\n",
       "}\n",
       "\n",
       "function register_renderer(events, OutputArea) {\n",
       "  function append_mime(data, metadata, element) {\n",
       "    // create a DOM node to render to\n",
       "    var toinsert = this.create_output_subarea(\n",
       "    metadata,\n",
       "    CLASS_NAME,\n",
       "    EXEC_MIME_TYPE\n",
       "    );\n",
       "    this.keyboard_manager.register_events(toinsert);\n",
       "    // Render to node\n",
       "    var props = {data: data, metadata: metadata[EXEC_MIME_TYPE]};\n",
       "    render(props, toinsert[0]);\n",
       "    element.append(toinsert);\n",
       "    return toinsert\n",
       "  }\n",
       "\n",
       "  events.on('output_added.OutputArea', handle_add_output);\n",
       "  events.on('output_updated.OutputArea', handle_update_output);\n",
       "  events.on('clear_output.CodeCell', handle_clear_output);\n",
       "  events.on('delete.Cell', handle_clear_output);\n",
       "  events.on('kernel_ready.Kernel', handle_kernel_cleanup);\n",
       "\n",
       "  OutputArea.prototype.register_mime_type(EXEC_MIME_TYPE, append_mime, {\n",
       "    safe: true,\n",
       "    index: 0\n",
       "  });\n",
       "}\n",
       "\n",
       "if (window.Jupyter !== undefined) {\n",
       "  try {\n",
       "    var events = require('base/js/events');\n",
       "    var OutputArea = require('notebook/js/outputarea').OutputArea;\n",
       "    if (OutputArea.prototype.mime_types().indexOf(EXEC_MIME_TYPE) == -1) {\n",
       "      register_renderer(events, OutputArea);\n",
       "    }\n",
       "  } catch(err) {\n",
       "  }\n",
       "}\n"
      ],
      "application/vnd.holoviews_load.v0+json": "\nif ((window.PyViz === undefined) || (window.PyViz instanceof HTMLElement)) {\n  window.PyViz = {comms: {}, comm_status:{}, kernels:{}, receivers: {}, plot_index: []}\n}\n\n\n    function JupyterCommManager() {\n    }\n\n    JupyterCommManager.prototype.register_target = function(plot_id, comm_id, msg_handler) {\n      if (window.comm_manager || ((window.Jupyter !== undefined) && (Jupyter.notebook.kernel != null))) {\n        var comm_manager = window.comm_manager || Jupyter.notebook.kernel.comm_manager;\n        comm_manager.register_target(comm_id, function(comm) {\n          comm.on_msg(msg_handler);\n        });\n      } else if ((plot_id in window.PyViz.kernels) && (window.PyViz.kernels[plot_id])) {\n        window.PyViz.kernels[plot_id].registerCommTarget(comm_id, function(comm) {\n          comm.onMsg = msg_handler;\n        });\n      } else if (typeof google != 'undefined' && google.colab.kernel != null) {\n        google.colab.kernel.comms.registerTarget(comm_id, (comm) => {\n          var messages = comm.messages[Symbol.asyncIterator]();\n          function processIteratorResult(result) {\n            var message = result.value;\n            console.log(message)\n            var content = {data: message.data, comm_id};\n            var buffers = []\n            for (var buffer of message.buffers || []) {\n              buffers.push(new DataView(buffer))\n            }\n            var metadata = message.metadata || {};\n            var msg = {content, buffers, metadata}\n            msg_handler(msg);\n            return messages.next().then(processIteratorResult);\n          }\n          return messages.next().then(processIteratorResult);\n        })\n      }\n    }\n\n    JupyterCommManager.prototype.get_client_comm = function(plot_id, comm_id, msg_handler) {\n      if (comm_id in window.PyViz.comms) {\n        return window.PyViz.comms[comm_id];\n      } else if (window.comm_manager || ((window.Jupyter !== undefined) && (Jupyter.notebook.kernel != null))) {\n        var comm_manager = window.comm_manager || Jupyter.notebook.kernel.comm_manager;\n        var comm = comm_manager.new_comm(comm_id, {}, {}, {}, comm_id);\n        if (msg_handler) {\n          comm.on_msg(msg_handler);\n        }\n      } else if ((plot_id in window.PyViz.kernels) && (window.PyViz.kernels[plot_id])) {\n        var comm = window.PyViz.kernels[plot_id].connectToComm(comm_id);\n        comm.open();\n        if (msg_handler) {\n          comm.onMsg = msg_handler;\n        }\n      } else if (typeof google != 'undefined' && google.colab.kernel != null) {\n        var comm_promise = google.colab.kernel.comms.open(comm_id)\n        comm_promise.then((comm) => {\n          window.PyViz.comms[comm_id] = comm;\n          if (msg_handler) {\n            var messages = comm.messages[Symbol.asyncIterator]();\n            function processIteratorResult(result) {\n              var message = result.value;\n              var content = {data: message.data};\n              var metadata = message.metadata || {comm_id};\n              var msg = {content, metadata}\n              msg_handler(msg);\n              return messages.next().then(processIteratorResult);\n            }\n            return messages.next().then(processIteratorResult);\n          }\n        }) \n        var sendClosure = (data, metadata, buffers, disposeOnDone) => {\n          return comm_promise.then((comm) => {\n            comm.send(data, metadata, buffers, disposeOnDone);\n          });\n        };\n        var comm = {\n          send: sendClosure\n        };\n      }\n      window.PyViz.comms[comm_id] = comm;\n      return comm;\n    }\n    window.PyViz.comm_manager = new JupyterCommManager();\n    \n\n\nvar JS_MIME_TYPE = 'application/javascript';\nvar HTML_MIME_TYPE = 'text/html';\nvar EXEC_MIME_TYPE = 'application/vnd.holoviews_exec.v0+json';\nvar CLASS_NAME = 'output';\n\n/**\n * Render data to the DOM node\n */\nfunction render(props, node) {\n  var div = document.createElement(\"div\");\n  var script = document.createElement(\"script\");\n  node.appendChild(div);\n  node.appendChild(script);\n}\n\n/**\n * Handle when a new output is added\n */\nfunction handle_add_output(event, handle) {\n  var output_area = handle.output_area;\n  var output = handle.output;\n  if ((output.data == undefined) || (!output.data.hasOwnProperty(EXEC_MIME_TYPE))) {\n    return\n  }\n  var id = output.metadata[EXEC_MIME_TYPE][\"id\"];\n  var toinsert = output_area.element.find(\".\" + CLASS_NAME.split(' ')[0]);\n  if (id !== undefined) {\n    var nchildren = toinsert.length;\n    var html_node = toinsert[nchildren-1].children[0];\n    html_node.innerHTML = output.data[HTML_MIME_TYPE];\n    var scripts = [];\n    var nodelist = html_node.querySelectorAll(\"script\");\n    for (var i in nodelist) {\n      if (nodelist.hasOwnProperty(i)) {\n        scripts.push(nodelist[i])\n      }\n    }\n\n    scripts.forEach( function (oldScript) {\n      var newScript = document.createElement(\"script\");\n      var attrs = [];\n      var nodemap = oldScript.attributes;\n      for (var j in nodemap) {\n        if (nodemap.hasOwnProperty(j)) {\n          attrs.push(nodemap[j])\n        }\n      }\n      attrs.forEach(function(attr) { newScript.setAttribute(attr.name, attr.value) });\n      newScript.appendChild(document.createTextNode(oldScript.innerHTML));\n      oldScript.parentNode.replaceChild(newScript, oldScript);\n    });\n    if (JS_MIME_TYPE in output.data) {\n      toinsert[nchildren-1].children[1].textContent = output.data[JS_MIME_TYPE];\n    }\n    output_area._hv_plot_id = id;\n    if ((window.Bokeh !== undefined) && (id in Bokeh.index)) {\n      window.PyViz.plot_index[id] = Bokeh.index[id];\n    } else {\n      window.PyViz.plot_index[id] = null;\n    }\n  } else if (output.metadata[EXEC_MIME_TYPE][\"server_id\"] !== undefined) {\n    var bk_div = document.createElement(\"div\");\n    bk_div.innerHTML = output.data[HTML_MIME_TYPE];\n    var script_attrs = bk_div.children[0].attributes;\n    for (var i = 0; i < script_attrs.length; i++) {\n      toinsert[toinsert.length - 1].childNodes[1].setAttribute(script_attrs[i].name, script_attrs[i].value);\n    }\n    // store reference to server id on output_area\n    output_area._bokeh_server_id = output.metadata[EXEC_MIME_TYPE][\"server_id\"];\n  }\n}\n\n/**\n * Handle when an output is cleared or removed\n */\nfunction handle_clear_output(event, handle) {\n  var id = handle.cell.output_area._hv_plot_id;\n  var server_id = handle.cell.output_area._bokeh_server_id;\n  if (((id === undefined) || !(id in PyViz.plot_index)) && (server_id !== undefined)) { return; }\n  var comm = window.PyViz.comm_manager.get_client_comm(\"hv-extension-comm\", \"hv-extension-comm\", function () {});\n  if (server_id !== null) {\n    comm.send({event_type: 'server_delete', 'id': server_id});\n    return;\n  } else if (comm !== null) {\n    comm.send({event_type: 'delete', 'id': id});\n  }\n  delete PyViz.plot_index[id];\n  if ((window.Bokeh !== undefined) & (id in window.Bokeh.index)) {\n    var doc = window.Bokeh.index[id].model.document\n    doc.clear();\n    const i = window.Bokeh.documents.indexOf(doc);\n    if (i > -1) {\n      window.Bokeh.documents.splice(i, 1);\n    }\n  }\n}\n\n/**\n * Handle kernel restart event\n */\nfunction handle_kernel_cleanup(event, handle) {\n  delete PyViz.comms[\"hv-extension-comm\"];\n  window.PyViz.plot_index = {}\n}\n\n/**\n * Handle update_display_data messages\n */\nfunction handle_update_output(event, handle) {\n  handle_clear_output(event, {cell: {output_area: handle.output_area}})\n  handle_add_output(event, handle)\n}\n\nfunction register_renderer(events, OutputArea) {\n  function append_mime(data, metadata, element) {\n    // create a DOM node to render to\n    var toinsert = this.create_output_subarea(\n    metadata,\n    CLASS_NAME,\n    EXEC_MIME_TYPE\n    );\n    this.keyboard_manager.register_events(toinsert);\n    // Render to node\n    var props = {data: data, metadata: metadata[EXEC_MIME_TYPE]};\n    render(props, toinsert[0]);\n    element.append(toinsert);\n    return toinsert\n  }\n\n  events.on('output_added.OutputArea', handle_add_output);\n  events.on('output_updated.OutputArea', handle_update_output);\n  events.on('clear_output.CodeCell', handle_clear_output);\n  events.on('delete.Cell', handle_clear_output);\n  events.on('kernel_ready.Kernel', handle_kernel_cleanup);\n\n  OutputArea.prototype.register_mime_type(EXEC_MIME_TYPE, append_mime, {\n    safe: true,\n    index: 0\n  });\n}\n\nif (window.Jupyter !== undefined) {\n  try {\n    var events = require('base/js/events');\n    var OutputArea = require('notebook/js/outputarea').OutputArea;\n    if (OutputArea.prototype.mime_types().indexOf(EXEC_MIME_TYPE) == -1) {\n      register_renderer(events, OutputArea);\n    }\n  } catch(err) {\n  }\n}\n"
     },
     "metadata": {},
     "output_type": "display_data"
    }
   ],
   "source": [
    "import numpy as np\n",
    "import matplotlib.pyplot as plt\n",
    "import pandas as pd \n",
    "import panel as pn\n",
    "pn.extension('katex') "
   ]
  },
  {
   "cell_type": "markdown",
   "metadata": {
    "slideshow": {
     "slide_type": "slide"
    }
   },
   "source": [
    "# Tutorial 4 - Effective K & Recitation #\n",
    "\n",
    "+ **solutions for homework problems 1 – 2**\n",
    "\n",
    "+ **tutorial problems on effective conductivity and flow nets**\n",
    "\n",
    "+ **homework problems on effective conductivity and flow nets**\n",
    "\n",
    "\n",
    "\n",
    "\n",
    "\n",
    "\n",
    "\n",
    "## Solutions for Homework Problems 1 – 2 ##\n",
    "\n",
    "## Homework Problems 1 ##\n",
    "\n"
   ]
  },
  {
   "cell_type": "code",
   "execution_count": 6,
   "metadata": {
    "ExecuteTime": {
     "end_time": "2021-11-08T09:02:12.671523Z",
     "start_time": "2021-11-08T09:02:12.640900Z"
    },
    "code_folding": [
     0
    ],
    "slideshow": {
     "slide_type": "slide"
    },
    "tags": [
     "hide-input"
    ]
   },
   "outputs": [
    {
     "data": {},
     "metadata": {},
     "output_type": "display_data"
    },
    {
     "data": {
      "application/vnd.holoviews_exec.v0+json": "",
      "text/html": [
       "<div id='1021'>\n",
       "\n",
       "\n",
       "\n",
       "\n",
       "\n",
       "  <div class=\"bk-root\" id=\"7c32e65c-0bc3-4784-aebe-d9720cb10ee6\" data-root-id=\"1021\"></div>\n",
       "</div>\n",
       "<script type=\"application/javascript\">(function(root) {\n",
       "  function embed_document(root) {\n",
       "    var docs_json = {\"65db4e7d-9163-4833-87f3-27f21251b073\":{\"defs\":[{\"extends\":null,\"module\":null,\"name\":\"ReactiveHTML1\",\"overrides\":[],\"properties\":[]},{\"extends\":null,\"module\":null,\"name\":\"FlexBox1\",\"overrides\":[],\"properties\":[{\"default\":\"flex-start\",\"kind\":null,\"name\":\"align_content\"},{\"default\":\"flex-start\",\"kind\":null,\"name\":\"align_items\"},{\"default\":\"row\",\"kind\":null,\"name\":\"flex_direction\"},{\"default\":\"wrap\",\"kind\":null,\"name\":\"flex_wrap\"},{\"default\":\"flex-start\",\"kind\":null,\"name\":\"justify_content\"}]},{\"extends\":null,\"module\":null,\"name\":\"TemplateActions1\",\"overrides\":[],\"properties\":[{\"default\":0,\"kind\":null,\"name\":\"open_modal\"},{\"default\":0,\"kind\":null,\"name\":\"close_modal\"}]},{\"extends\":null,\"module\":null,\"name\":\"MaterialTemplateActions1\",\"overrides\":[],\"properties\":[{\"default\":0,\"kind\":null,\"name\":\"open_modal\"},{\"default\":0,\"kind\":null,\"name\":\"close_modal\"}]}],\"roots\":{\"references\":[{\"attributes\":{\"client_comm_id\":\"959bfe09f5a246ff9fa6eeff41aa485f\",\"comm_id\":\"0b4e65edbdc5469ca4e81b9ab75bb211\",\"plot_id\":\"1021\"},\"id\":\"1026\",\"type\":\"panel.models.comm_manager.CommManager\"},{\"attributes\":{\"css_classes\":[\"markdown\"],\"margin\":[5,5,5,5],\"name\":\"Markdown00135\",\"style\":{\"font-size\":\"12pt\"},\"text\":\"&lt;p&gt;The pressure head in an aquifer extending over 200 km&lt;sup&gt;2&lt;/sup&gt; is decreased by 1.60 m.\\nDetermine the loss of groundwater in the aquifer for two scenarios:\\nA. The aquifer is unconfined (storage coefficient 0.13).\\nB. The aquifer is confined (storage coefficient 0.0005).&lt;/p&gt;\",\"width\":800},\"id\":\"1022\",\"type\":\"panel.models.markup.HTML\"},{\"attributes\":{\"height\":224,\"margin\":[5,5,5,5],\"name\":\"PNG00137\",\"text\":\"&lt;img src=&quot;data:image/png;base64,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&quot; width=&quot;350px&quot; height=&quot;224px&quot; alt=&quot;&quot;&gt;&lt;/img&gt;\",\"width\":350},\"id\":\"1023\",\"type\":\"panel.models.markup.HTML\"},{\"attributes\":{\"margin\":[5,5,5,5],\"name\":\"LaTeX00141\",\"style\":{\"font-size\":\"12pt\"},\"text\":\" \\n<br> \\nThe relevant equations is:<br>\\n$$\\nS = \\\\frac{\\\\Delta V_w}{A\\\\cdot \\\\Delta \\\\psi}\\n$$\\n\\n\",\"width\":800},\"id\":\"1025\",\"type\":\"panel.models.katex.KaTeX\"},{\"attributes\":{\"css_classes\":[\"markdown\"],\"margin\":[5,5,5,5],\"name\":\"Markdown00139\",\"style\":{\"font-size\":\"12pt\"},\"text\":\"&lt;h3&gt;Solution - Homework Problem 1&lt;/h3&gt;\\n&lt;p&gt;&lt;br&gt; \\nRelevant information can be found in Lecture L03, Slides- 28-30&lt;/p&gt;\",\"width\":800},\"id\":\"1024\",\"type\":\"panel.models.markup.HTML\"},{\"attributes\":{\"children\":[{\"id\":\"1022\"},{\"id\":\"1023\"},{\"id\":\"1024\"},{\"id\":\"1025\"}],\"margin\":[0,0,0,0],\"name\":\"Column00143\"},\"id\":\"1021\",\"type\":\"Column\"}],\"root_ids\":[\"1021\",\"1026\"]},\"title\":\"Bokeh Application\",\"version\":\"2.3.2\"}};\n",
       "    var render_items = [{\"docid\":\"65db4e7d-9163-4833-87f3-27f21251b073\",\"root_ids\":[\"1021\"],\"roots\":{\"1021\":\"7c32e65c-0bc3-4784-aebe-d9720cb10ee6\"}}];\n",
       "    root.Bokeh.embed.embed_items_notebook(docs_json, render_items);\n",
       "  }\n",
       "  if (root.Bokeh !== undefined && root.Bokeh.Panel !== undefined && ( root['katex'] !== undefined)) {\n",
       "    embed_document(root);\n",
       "  } else {\n",
       "    var attempts = 0;\n",
       "    var timer = setInterval(function(root) {\n",
       "      if (root.Bokeh !== undefined && root.Bokeh.Panel !== undefined && (root['katex'] !== undefined)) {\n",
       "        clearInterval(timer);\n",
       "        embed_document(root);\n",
       "      } else if (document.readyState == \"complete\") {\n",
       "        attempts++;\n",
       "        if (attempts > 200) {\n",
       "          clearInterval(timer);\n",
       "          console.log(\"Bokeh: ERROR: Unable to run BokehJS code because BokehJS library is missing\");\n",
       "        }\n",
       "      }\n",
       "    }, 25, root)\n",
       "  }\n",
       "})(window);</script>"
      ],
      "text/plain": [
       "Column\n",
       "    [0] Markdown(str, style={'font-size': '12pt'}, width=800)\n",
       "    [1] PNG(str, width=350)\n",
       "    [2] Markdown(str, style={'font-size': '12pt'}, width=800)\n",
       "    [3] LaTeX(str, style={'font-size': '12pt'}, width=800)"
      ]
     },
     "execution_count": 6,
     "metadata": {
      "application/vnd.holoviews_exec.v0+json": {
       "id": "1021"
      }
     },
     "output_type": "execute_result"
    }
   ],
   "source": [
    "#\n",
    "r1_1 = pn.pane.Markdown(\"\"\"\n",
    "The pressure head in an aquifer extending over 200 km<sup>2</sup> is decreased by 1.60 m.\n",
    "Determine the loss of groundwater in the aquifer for two scenarios:\n",
    "A. The aquifer is unconfined (storage coefficient 0.13).\n",
    "B. The aquifer is confined (storage coefficient 0.0005).\n",
    "\n",
    "\"\"\",width = 800, style={'font-size': '12pt'})  \n",
    "\n",
    "r1_2= pn.pane.PNG(\"images/T03_H1.png\", width=350)\n",
    "#r1_2 = pn.pane.PNG(\"images/T03_H1.PNG\") \n",
    "\n",
    "### Tutorial Problem 7 – Solution ###\n",
    "\n",
    "#<img src=\"images/T03_H1.PNG\" alt=\"Grosser Garten Map\"  width=\"40%\" height=\"100%\" >\n",
    "\n",
    "r1_3 = pn.pane.Markdown(\"\"\" \n",
    "### Solution - Homework Problem 1 ###\n",
    "<br> \n",
    "Relevant information can be found in Lecture L03, Slides- 28-30\n",
    "\n",
    "\"\"\",width = 800, style={'font-size': '12pt'})  \n",
    "\n",
    "r1_3b = pn.pane.LaTeX(r\"\"\" \n",
    "<br> \n",
    "The relevant equations is:<br>\n",
    "$$\n",
    "S = \\frac{\\Delta V_w}{A\\cdot \\Delta \\psi}\n",
    "$$\n",
    "\n",
    "\"\"\",width = 800, style={'font-size': '12pt'}) \n",
    "pn.Column(r1_1, r1_2, r1_3, r1_3b)   "
   ]
  },
  {
   "cell_type": "code",
   "execution_count": 3,
   "metadata": {
    "ExecuteTime": {
     "end_time": "2021-11-08T08:56:44.649705Z",
     "start_time": "2021-11-08T08:56:44.630593Z"
    },
    "slideshow": {
     "slide_type": "subslide"
    }
   },
   "outputs": [
    {
     "name": "stdout",
     "output_type": "stream",
     "text": [
      "Change in water volume in unconfined aquifer is: 2.1e+06 m³ \n",
      "\n",
      "Change in water volume in confined aquifer is: 8.0e+03 m³\n"
     ]
    }
   ],
   "source": [
    "# Given \n",
    "A = 200 # km^2, aquifer area\n",
    "D_h = 1.6*0.05 # m, head decrease\n",
    "S_u = 0.13 # (-), Storativity unconfined aquifer\n",
    "S_c = 0.0005 # (-) Storage coefficient, confined aquifer\n",
    "\n",
    "# interim calculation\n",
    "A_m2 = A*10**6 # m^2, aquifer area unit converted\n",
    "\n",
    "# Solution\n",
    "DV_wu = A_m2*S_u*D_h # m^3, change in water volume unconfined aquifer\n",
    "DV_wc = A_m2*S_c*D_h  # m^3 change in water volume unconfined aquifer\n",
    "\n",
    "# output\n",
    "\n",
    "print(\"Change in water volume in unconfined aquifer is: {0:1.1e}\".format(DV_wu),\"m\\u00b3 \\n\")\n",
    "print(\"Change in water volume in confined aquifer is: {0:1.1e}\".format(DV_wc),\"m\\u00b3\")"
   ]
  },
  {
   "cell_type": "markdown",
   "metadata": {
    "code_folding": [],
    "slideshow": {
     "slide_type": "slide"
    }
   },
   "source": [
    "## Homework Problem 2 ##\n",
    "\n",
    "Conduct a sieve analysis for a dried soil sample (see data in the table below)\n",
    "\n",
    "1. Draw the granulometric curve (cumulative mass distribution) and briefly characterise the sediment with regard to its major constituent(s).\n",
    "2. What is the coefficient of uniformity? \n"
   ]
  },
  {
   "cell_type": "code",
   "execution_count": 7,
   "metadata": {
    "ExecuteTime": {
     "end_time": "2021-11-08T09:03:07.585126Z",
     "start_time": "2021-11-08T09:03:07.566000Z"
    },
    "code_folding": []
   },
   "outputs": [
    {
     "data": {
      "text/html": [
       "<div><div id=67e21c3b-1a18-4527-a2df-037de2370139 style=\"display:none; background-color:#9D6CFF; color:white; width:200px; height:30px; padding-left:5px; border-radius:4px; flex-direction:row; justify-content:space-around; align-items:center;\" onmouseover=\"this.style.backgroundColor='#BA9BF8'\" onmouseout=\"this.style.backgroundColor='#9D6CFF'\" onclick=\"window.commands?.execute('create-mitosheet-from-dataframe-output');\">See Full Dataframe in Mito</div> <script> if (window.commands.hasCommand('create-mitosheet-from-dataframe-output')) document.getElementById('67e21c3b-1a18-4527-a2df-037de2370139').style.display = 'flex' </script> <table border=\"1\" class=\"dataframe\">\n",
       "  <thead>\n",
       "    <tr style=\"text-align: right;\">\n",
       "      <th></th>\n",
       "      <th>residue in the sieve [g]</th>\n",
       "    </tr>\n",
       "    <tr>\n",
       "      <th>mesh size [mm]</th>\n",
       "      <th></th>\n",
       "    </tr>\n",
       "  </thead>\n",
       "  <tbody>\n",
       "    <tr>\n",
       "      <th>6.3</th>\n",
       "      <td>11</td>\n",
       "    </tr>\n",
       "    <tr>\n",
       "      <th>2</th>\n",
       "      <td>62</td>\n",
       "    </tr>\n",
       "    <tr>\n",
       "      <th>0.63</th>\n",
       "      <td>288</td>\n",
       "    </tr>\n",
       "    <tr>\n",
       "      <th>0.2</th>\n",
       "      <td>189</td>\n",
       "    </tr>\n",
       "    <tr>\n",
       "      <th>0.063</th>\n",
       "      <td>42</td>\n",
       "    </tr>\n",
       "    <tr>\n",
       "      <th>&lt; 0.063 /cup</th>\n",
       "      <td>8</td>\n",
       "    </tr>\n",
       "  </tbody>\n",
       "</table></div>"
      ],
      "text/plain": [
       "                residue in the sieve [g] \n",
       "mesh size [mm]                           \n",
       "6.3                                    11\n",
       "2                                      62\n",
       "0.63                                  288\n",
       "0.2                                   189\n",
       "0.063                                  42\n",
       "< 0.063 /cup                            8"
      ]
     },
     "execution_count": 7,
     "metadata": {},
     "output_type": "execute_result"
    }
   ],
   "source": [
    "### Head = [\"mesh size [mm]\", \"residue in the sieve [g] \", \"∑ total\", \"∑ / ∑total\"]\n",
    "Size = [6.3, 2, 0.63, 0.2, 0.063, \"< 0.063 /cup\"]\n",
    "residue = [11, 62, 288, 189, 42, 8]\n",
    "\n",
    "\n",
    "data1= {\"mesh size [mm]\": Size, \"residue in the sieve [g] \": residue}\n",
    "df1= pd.DataFrame(data1)\n",
    "df1.set_index(\"mesh size [mm]\")\n"
   ]
  },
  {
   "cell_type": "markdown",
   "metadata": {},
   "source": [
    "### Solution of problem 2 ###"
   ]
  },
  {
   "cell_type": "code",
   "execution_count": 11,
   "metadata": {
    "ExecuteTime": {
     "end_time": "2021-11-08T09:05:06.746817Z",
     "start_time": "2021-11-08T09:05:06.724593Z"
    },
    "code_folding": [],
    "slideshow": {
     "slide_type": "subslide"
    }
   },
   "outputs": [
    {
     "data": {
      "text/html": [
       "<div><div id=3724bb84-aec9-4eb6-9595-09c68f78c903 style=\"display:none; background-color:#9D6CFF; color:white; width:200px; height:30px; padding-left:5px; border-radius:4px; flex-direction:row; justify-content:space-around; align-items:center;\" onmouseover=\"this.style.backgroundColor='#BA9BF8'\" onmouseout=\"this.style.backgroundColor='#9D6CFF'\" onclick=\"window.commands?.execute('create-mitosheet-from-dataframe-output');\">See Full Dataframe in Mito</div> <script> if (window.commands.hasCommand('create-mitosheet-from-dataframe-output')) document.getElementById('3724bb84-aec9-4eb6-9595-09c68f78c903').style.display = 'flex' </script> <table border=\"1\" class=\"dataframe\">\n",
       "  <thead>\n",
       "    <tr style=\"text-align: right;\">\n",
       "      <th></th>\n",
       "      <th>residue in the sieve [g]</th>\n",
       "      <th>Σtotal %</th>\n",
       "      <th>Σ/Σtotal %</th>\n",
       "    </tr>\n",
       "    <tr>\n",
       "      <th>mesh size [mm]</th>\n",
       "      <th></th>\n",
       "      <th></th>\n",
       "      <th></th>\n",
       "    </tr>\n",
       "  </thead>\n",
       "  <tbody>\n",
       "    <tr>\n",
       "      <th>6.3</th>\n",
       "      <td>11</td>\n",
       "      <td>1.83</td>\n",
       "      <td>98.17</td>\n",
       "    </tr>\n",
       "    <tr>\n",
       "      <th>2</th>\n",
       "      <td>62</td>\n",
       "      <td>10.33</td>\n",
       "      <td>87.84</td>\n",
       "    </tr>\n",
       "    <tr>\n",
       "      <th>0.63</th>\n",
       "      <td>288</td>\n",
       "      <td>48.00</td>\n",
       "      <td>39.84</td>\n",
       "    </tr>\n",
       "    <tr>\n",
       "      <th>0.2</th>\n",
       "      <td>189</td>\n",
       "      <td>31.50</td>\n",
       "      <td>8.34</td>\n",
       "    </tr>\n",
       "    <tr>\n",
       "      <th>0.063</th>\n",
       "      <td>42</td>\n",
       "      <td>7.00</td>\n",
       "      <td>1.34</td>\n",
       "    </tr>\n",
       "    <tr>\n",
       "      <th>&lt; 0.063 /cup</th>\n",
       "      <td>8</td>\n",
       "      <td>1.33</td>\n",
       "      <td>0.01</td>\n",
       "    </tr>\n",
       "  </tbody>\n",
       "</table></div>"
      ],
      "text/plain": [
       "                residue in the sieve [g]  Σtotal %  Σ/Σtotal %\n",
       "mesh size [mm]                                                \n",
       "6.3                                   11      1.83       98.17\n",
       "2                                     62     10.33       87.84\n",
       "0.63                                 288     48.00       39.84\n",
       "0.2                                  189     31.50        8.34\n",
       "0.063                                 42      7.00        1.34\n",
       "< 0.063 /cup                           8      1.33        0.01"
      ]
     },
     "execution_count": 11,
     "metadata": {},
     "output_type": "execute_result"
    }
   ],
   "source": [
    "# solution of problem 2\n",
    "\n",
    "t_sample = np.sum(residue) # g, add the residue column to get total mass\n",
    "retain_per = np.round(residue/t_sample *100,2) # %, # retain percentage residue/total mass\n",
    "retain_per_cumsum =np.round(np.cumsum(retain_per),2) # get the cummulative sum of the reatined\n",
    "passing_per = np.round(100 - retain_per_cumsum,3) # substract 100-cummsum to get passing % - the last column\n",
    "\n",
    "data2 = {\"mesh size [mm]\": Size, \"residue in the sieve [g]\": residue, \"Σtotal %\": retain_per, \"Σ/Σtotal %\": passing_per }\n",
    "\n",
    "df2= pd.DataFrame(data2)\n",
    "df2 = df2.set_index(\"mesh size [mm]\")\n",
    "df2\n"
   ]
  },
  {
   "cell_type": "code",
   "execution_count": 12,
   "metadata": {
    "ExecuteTime": {
     "end_time": "2021-11-08T09:05:43.602001Z",
     "start_time": "2021-11-08T09:05:42.890261Z"
    },
    "code_folding": [],
    "slideshow": {
     "slide_type": "subslide"
    }
   },
   "outputs": [
    {
     "data": {
      "image/png": "[encoded data removed]",
      "text/plain": [
       "<Figure size 648x432 with 1 Axes>"
      ]
     },
     "metadata": {
      "needs_background": "light"
     },
     "output_type": "display_data"
    }
   ],
   "source": [
    "# Plotting granulometric curve\n",
    "\n",
    "plt.rcParams['axes.linewidth']=2\n",
    "plt.rcParams['grid.linestyle']='--'\n",
    "plt.rcParams['grid.linewidth']=1\n",
    "\n",
    "x = np.append([20], Size[:5]) # adding for all left over.\n",
    "y = np.append([100],passing_per[:5])\n",
    "\n",
    "fig = plt.figure(figsize=(9,6));\n",
    "\n",
    "plt.plot(x, y, 'x-', color='red', lw=2.5); \n",
    "tics=x.tolist()\n",
    "\n",
    "plt.xscale('log');lw=2.5\n",
    "\n",
    "plt.grid(which='major', color='k', alpha=0.7) \n",
    "plt.grid(which='minor', color='k', alpha=0.3)\n",
    "plt.xticks(x, tics);  \n",
    "plt.yticks(np.arange(0,110,10));\n",
    "\n",
    "#plt.title('grain size distribution (combined wet sieving and sedimentation analysis)');\n",
    "plt.xlabel('grain size d [mm]');\n",
    "plt.ylabel('Cummulative Passed fraction %');\n",
    "\n",
    "plt.annotate('', xy=(0.20, 10),  xycoords='data', xytext=(0.045, 10), arrowprops=dict(arrowstyle='->', color=\"b\", lw=2.5),ha='right', va='top',)\n",
    "plt.annotate('', xy=(1.1, 60),  xycoords='data', xytext=(0.045, 60), arrowprops=dict(arrowstyle='->', color=\"b\", lw=2.5),ha='right', va='top',)\n",
    "plt.annotate(r'$d_{60}$', xy=(1, 60),  xycoords=\"data\", xytext=(0.85, -3),color='red',size=12, arrowprops=dict(arrowstyle='<-', color=\"b\", lw=2.5),ha='left', va='bottom',)\n",
    "plt.annotate(r'$d_{10}$', xy=(0.20, 10),  xycoords='data', xytext=(0.235, 1.5),color='red',size=12, arrowprops=dict(arrowstyle='<-', color=\"b\", lw=2.5),ha='right', va='top',)\n",
    "plt.rcParams[\"font.weight\"] = \"bold\"   \n",
    "\n",
    "plt.savefig(\"fig6.png\", dpi=300)\n",
    "\n",
    "mpl_pane = pn.pane.Matplotlib(fig)\n"
   ]
  },
  {
   "cell_type": "code",
   "execution_count": 13,
   "metadata": {
    "ExecuteTime": {
     "end_time": "2021-11-08T09:05:46.853656Z",
     "start_time": "2021-11-08T09:05:46.822345Z"
    },
    "code_folding": [],
    "slideshow": {
     "slide_type": "subslide"
    }
   },
   "outputs": [
    {
     "name": "stdout",
     "output_type": "stream",
     "text": [
      "\n",
      " The coefficient of uniformity is: 4.5 \n",
      "\n"
     ]
    },
    {
     "data": {},
     "metadata": {},
     "output_type": "display_data"
    },
    {
     "data": {
      "application/vnd.holoviews_exec.v0+json": "",
      "text/html": [
       "<div id='1027'>\n",
       "\n",
       "\n",
       "\n",
       "\n",
       "\n",
       "  <div class=\"bk-root\" id=\"dbbc7428-54e4-4bd8-8a2f-5abebc345ac8\" data-root-id=\"1027\"></div>\n",
       "</div>\n",
       "<script type=\"application/javascript\">(function(root) {\n",
       "  function embed_document(root) {\n",
       "    var docs_json = {\"a57ec17c-921c-4a54-bc65-d978ac6862b9\":{\"defs\":[{\"extends\":null,\"module\":null,\"name\":\"ReactiveHTML1\",\"overrides\":[],\"properties\":[]},{\"extends\":null,\"module\":null,\"name\":\"FlexBox1\",\"overrides\":[],\"properties\":[{\"default\":\"flex-start\",\"kind\":null,\"name\":\"align_content\"},{\"default\":\"flex-start\",\"kind\":null,\"name\":\"align_items\"},{\"default\":\"row\",\"kind\":null,\"name\":\"flex_direction\"},{\"default\":\"wrap\",\"kind\":null,\"name\":\"flex_wrap\"},{\"default\":\"flex-start\",\"kind\":null,\"name\":\"justify_content\"}]},{\"extends\":null,\"module\":null,\"name\":\"TemplateActions1\",\"overrides\":[],\"properties\":[{\"default\":0,\"kind\":null,\"name\":\"open_modal\"},{\"default\":0,\"kind\":null,\"name\":\"close_modal\"}]},{\"extends\":null,\"module\":null,\"name\":\"MaterialTemplateActions1\",\"overrides\":[],\"properties\":[{\"default\":0,\"kind\":null,\"name\":\"open_modal\"},{\"default\":0,\"kind\":null,\"name\":\"close_modal\"}]}],\"roots\":{\"references\":[{\"attributes\":{\"css_classes\":[\"markdown\"],\"margin\":[5,5,5,5],\"name\":\"Markdown00150\",\"style\":{\"color\":\"blue\",\"font-size\":\"12pt\"},\"text\":\"&lt;p&gt;&lt;strong&gt;Major constituents: coarse sand/medium sand&lt;/strong&gt; &lt;/p&gt;\",\"width\":600},\"id\":\"1028\",\"type\":\"panel.models.markup.HTML\"},{\"attributes\":{\"client_comm_id\":\"3587a5012c9e4ca0a52768181a9b682e\",\"comm_id\":\"f59afcaa5d344824a12475592385afc9\",\"plot_id\":\"1027\"},\"id\":\"1029\",\"type\":\"panel.models.comm_manager.CommManager\"},{\"attributes\":{\"children\":[{\"id\":\"1028\"}],\"margin\":[0,0,0,0],\"name\":\"Row00152\"},\"id\":\"1027\",\"type\":\"Row\"}],\"root_ids\":[\"1027\",\"1029\"]},\"title\":\"Bokeh Application\",\"version\":\"2.3.2\"}};\n",
       "    var render_items = [{\"docid\":\"a57ec17c-921c-4a54-bc65-d978ac6862b9\",\"root_ids\":[\"1027\"],\"roots\":{\"1027\":\"dbbc7428-54e4-4bd8-8a2f-5abebc345ac8\"}}];\n",
       "    root.Bokeh.embed.embed_items_notebook(docs_json, render_items);\n",
       "  }\n",
       "  if (root.Bokeh !== undefined && root.Bokeh.Panel !== undefined && ( root['katex'] !== undefined)) {\n",
       "    embed_document(root);\n",
       "  } else {\n",
       "    var attempts = 0;\n",
       "    var timer = setInterval(function(root) {\n",
       "      if (root.Bokeh !== undefined && root.Bokeh.Panel !== undefined && (root['katex'] !== undefined)) {\n",
       "        clearInterval(timer);\n",
       "        embed_document(root);\n",
       "      } else if (document.readyState == \"complete\") {\n",
       "        attempts++;\n",
       "        if (attempts > 200) {\n",
       "          clearInterval(timer);\n",
       "          console.log(\"Bokeh: ERROR: Unable to run BokehJS code because BokehJS library is missing\");\n",
       "        }\n",
       "      }\n",
       "    }, 25, root)\n",
       "  }\n",
       "})(window);</script>"
      ],
      "text/plain": [
       "Row\n",
       "    [0] Markdown(str, style={'font-size': '12pt', ...}, width=600)"
      ]
     },
     "execution_count": 13,
     "metadata": {
      "application/vnd.holoviews_exec.v0+json": {
       "id": "1027"
      }
     },
     "output_type": "execute_result"
    }
   ],
   "source": [
    "# From the figure\n",
    "d_10 = 0.22 # mm,approx, diameter 10% passing, see the arrow bottom in x-axis\n",
    "d_60 = 1.0 # mm, approx diameter 10% passing, see the arrow bottom in x-axis\n",
    "\n",
    "c_u = d_60/d_10 # [], coefficient of uniformity\n",
    "\n",
    "#Output\n",
    "print(\"\\n The coefficient of uniformity is: {0:1.1f}\".format(c_u), \"\\n\") \n",
    "r2_1 = pn.pane.Markdown(\"\"\"\n",
    "**Major constituents: coarse sand/medium sand** \"\"\", width=600, style={'font-size': '12pt', 'color': 'blue'} )\n",
    "pn.Row(r2_1) "
   ]
  },
  {
   "cell_type": "markdown",
   "metadata": {
    "slideshow": {
     "slide_type": "slide"
    }
   },
   "source": [
    "## Tutorial Problems on effective conductivity ## \n"
   ]
  },
  {
   "cell_type": "markdown",
   "metadata": {
    "code_folding": [
     0
    ],
    "slideshow": {
     "slide_type": "slide"
    }
   },
   "source": [
    "### Tutorial problem 11 ###\n",
    "\n",
    "A sandy layer with a thickness of 2.5 m is embedded between two gravel layers. Both gravel layers have a thickness of 1.5 m and a hydraulic conductivity of 3.7·10<sup>-3</sup> m/s. \n",
    "Steady-state groundwater flow is in parallel to the layering. \n",
    "A hydraulic gradient of 0.001 and an overall discharge of 1 m³/d per unit width have been determined.\n",
    "<br><br>\n",
    "a. Determine the effective hydraulic conductivity.<br><br>\n",
    "b. What is the hydraulic conductivity of the sand layer?<br><br>\n",
    "c. Which effective hydraulic conductivity would be obtained if flow was assumed perpendicular to the layering?<br><br>\n",
    "d. Calculate effective hydraulic conductivity if the angle between the flow direction and the layering equals 45°.\n"
   ]
  },
  {
   "cell_type": "code",
   "execution_count": 17,
   "metadata": {
    "ExecuteTime": {
     "end_time": "2021-11-08T09:14:54.832635Z",
     "start_time": "2021-11-08T09:14:54.799997Z"
    },
    "code_folding": [],
    "slideshow": {
     "slide_type": "subslide"
    },
    "tags": [
     "hide-input"
    ]
   },
   "outputs": [
    {
     "data": {},
     "metadata": {},
     "output_type": "display_data"
    },
    {
     "data": {
      "application/vnd.holoviews_exec.v0+json": "",
      "text/html": [
       "<div id='1045'>\n",
       "\n",
       "\n",
       "\n",
       "\n",
       "\n",
       "  <div class=\"bk-root\" id=\"c34ff6d9-f34f-42c0-a616-e67fe1d5b7b0\" data-root-id=\"1045\"></div>\n",
       "</div>\n",
       "<script type=\"application/javascript\">(function(root) {\n",
       "  function embed_document(root) {\n",
       "    var docs_json = {\"45de6858-978a-41f4-ac4f-7141a3477acb\":{\"defs\":[{\"extends\":null,\"module\":null,\"name\":\"ReactiveHTML1\",\"overrides\":[],\"properties\":[]},{\"extends\":null,\"module\":null,\"name\":\"FlexBox1\",\"overrides\":[],\"properties\":[{\"default\":\"flex-start\",\"kind\":null,\"name\":\"align_content\"},{\"default\":\"flex-start\",\"kind\":null,\"name\":\"align_items\"},{\"default\":\"row\",\"kind\":null,\"name\":\"flex_direction\"},{\"default\":\"wrap\",\"kind\":null,\"name\":\"flex_wrap\"},{\"default\":\"flex-start\",\"kind\":null,\"name\":\"justify_content\"}]},{\"extends\":null,\"module\":null,\"name\":\"TemplateActions1\",\"overrides\":[],\"properties\":[{\"default\":0,\"kind\":null,\"name\":\"open_modal\"},{\"default\":0,\"kind\":null,\"name\":\"close_modal\"}]},{\"extends\":null,\"module\":null,\"name\":\"MaterialTemplateActions1\",\"overrides\":[],\"properties\":[{\"default\":0,\"kind\":null,\"name\":\"open_modal\"},{\"default\":0,\"kind\":null,\"name\":\"close_modal\"}]}],\"roots\":{\"references\":[{\"attributes\":{\"height\":239,\"margin\":[5,5,5,5],\"name\":\"PNG00179\",\"text\":\"&lt;img src=&quot;data:image/png;base64,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&quot; width=&quot;400px&quot; height=&quot;239px&quot; alt=&quot;&quot;&gt;&lt;/img&gt;\",\"width\":400},\"id\":\"1046\",\"type\":\"panel.models.markup.HTML\"},{\"attributes\":{\"margin\":[5,5,5,5],\"min_width\":100,\"name\":\"Spacer00183\",\"width\":100},\"id\":\"1047\",\"type\":\"Spacer\"},{\"attributes\":{\"margin\":[5,5,5,5],\"name\":\"LaTeX00181\",\"style\":{\"font-size\":\"12pt\"},\"text\":\"\\nKnown relationships are (see Lecture 05, Slides 8-13, 22):\\n$$\\nQ = WmK\\\\frac{\\\\Delta H}{L} = WmKi\\n$$\\n$$\\nK = \\\\frac{Q/W}{m\\\\cdot i}\\n$$\\nWeighted arithmetic mean to determine hydraulic conductivity for sand:\\n\\n$$\\nK = \\\\frac{1}{m}\\\\sum_{l=1}^n m_l\\\\cdot K_l\\n$$\\n\\nwhere $l$ is layer number\\n\",\"width\":500},\"id\":\"1048\",\"type\":\"panel.models.katex.KaTeX\"},{\"attributes\":{\"children\":[{\"id\":\"1046\"},{\"id\":\"1047\"},{\"id\":\"1048\"}],\"margin\":[0,0,0,0],\"name\":\"Row00184\"},\"id\":\"1045\",\"type\":\"Row\"},{\"attributes\":{\"client_comm_id\":\"9a41f65bce9842af94207dbf6b4aee5a\",\"comm_id\":\"56e3dd6ab74043f7864e4db01100d2cf\",\"plot_id\":\"1045\"},\"id\":\"1049\",\"type\":\"panel.models.comm_manager.CommManager\"}],\"root_ids\":[\"1045\",\"1049\"]},\"title\":\"Bokeh Application\",\"version\":\"2.3.2\"}};\n",
       "    var render_items = [{\"docid\":\"45de6858-978a-41f4-ac4f-7141a3477acb\",\"root_ids\":[\"1045\"],\"roots\":{\"1045\":\"c34ff6d9-f34f-42c0-a616-e67fe1d5b7b0\"}}];\n",
       "    root.Bokeh.embed.embed_items_notebook(docs_json, render_items);\n",
       "  }\n",
       "  if (root.Bokeh !== undefined && root.Bokeh.Panel !== undefined && ( root['katex'] !== undefined)) {\n",
       "    embed_document(root);\n",
       "  } else {\n",
       "    var attempts = 0;\n",
       "    var timer = setInterval(function(root) {\n",
       "      if (root.Bokeh !== undefined && root.Bokeh.Panel !== undefined && (root['katex'] !== undefined)) {\n",
       "        clearInterval(timer);\n",
       "        embed_document(root);\n",
       "      } else if (document.readyState == \"complete\") {\n",
       "        attempts++;\n",
       "        if (attempts > 200) {\n",
       "          clearInterval(timer);\n",
       "          console.log(\"Bokeh: ERROR: Unable to run BokehJS code because BokehJS library is missing\");\n",
       "        }\n",
       "      }\n",
       "    }, 25, root)\n",
       "  }\n",
       "})(window);</script>"
      ],
      "text/plain": [
       "Row\n",
       "    [0] PNG(str, width=400)\n",
       "    [1] Spacer(width=100)\n",
       "    [2] LaTeX(str, style={'font-size': '12pt'}, width=500)"
      ]
     },
     "execution_count": 17,
     "metadata": {
      "application/vnd.holoviews_exec.v0+json": {
       "id": "1045"
      }
     },
     "output_type": "execute_result"
    }
   ],
   "source": [
    "# Solution of Problem 11\n",
    "r5_3 = pn.pane.PNG(\"images/T04_TP11_a.png\", width=400)\n",
    "r5_4 = pn.pane.LaTeX(r\"\"\"\n",
    "Known relationships are (see Lecture 05, Slides 8-13, 22):\n",
    "$$\n",
    "Q = WmK\\frac{\\Delta H}{L} = WmKi\n",
    "$$\n",
    "$$\n",
    "K = \\frac{Q/W}{m\\cdot i}\n",
    "$$\n",
    "Weighted arithmetic mean to determine hydraulic conductivity for sand:\n",
    "\n",
    "$$\n",
    "K = \\frac{1}{m}\\sum_{l=1}^n m_l\\cdot K_l\n",
    "$$\n",
    "\n",
    "where $l$ is layer number\n",
    "\"\"\", width = 500, style={'font-size': '12pt'})\n",
    "spacer2 = pn.Spacer(width=100)\n",
    "\n",
    "pn.Row(r5_3, spacer2, r5_4)  "
   ]
  },
  {
   "cell_type": "code",
   "execution_count": 20,
   "metadata": {
    "ExecuteTime": {
     "end_time": "2021-11-08T09:16:56.460134Z",
     "start_time": "2021-11-08T09:16:56.445033Z"
    },
    "code_folding": [],
    "slideshow": {
     "slide_type": "subslide"
    }
   },
   "outputs": [
    {
     "name": "stdout",
     "output_type": "stream",
     "text": [
      "\n",
      "\n",
      "Effective horizontal hydraulic conductivity (Keff_h) = 181.82 m/d\n",
      "\n",
      "Effective horizontal hydraulic conductivity (Keff_hs) = 2.104E-03 m/s\n",
      "\n",
      "Hydraulic conductivity of sand layer (K_s) = 1.9E-04 m/s\n",
      "\n"
     ]
    }
   ],
   "source": [
    "#Given Solution of 11 a, b\n",
    "\n",
    "Q = 1 # m^3/d, discharge\n",
    "W = 1 # m, per unit width\n",
    "K_g = 3.7*1E-3# m/s, conductivity of gravel layer \n",
    "m_g = 1.5 # m, thickness of gravel layer\n",
    "m_s = 2.5 # m, thickness of sand layer\n",
    "Dh_L = 0.001 # (-), hydraulic gradient\n",
    "\n",
    "#interim calculation\n",
    "m = 2*m_g + m_s # m, total thickness of aquifer\n",
    "\n",
    "#Solution of 11a\n",
    "Keff_h = (Q/W)/(m*Dh_L) # m/d, conductivity\n",
    "Keff_hs = Keff_h/(24*3600)# m/s, conductivity unit changed\n",
    "\n",
    "#Solution of 11b\n",
    "# K_eff = (2*m_g*K_g + m_s*K_s)/m # (Keff*m-2*m_g*K_g)/m_s\n",
    "\n",
    "K_s = ((m*Keff_hs - 2*m_g*K_g))/m_s  # m/s cond. of sand layer\n",
    "\n",
    "print(\"\\n\")\n",
    "print(\"Effective horizontal hydraulic conductivity (Keff_h) = {0:1.2f}\".format(Keff_h), \"m/d\\n\" ) \n",
    "print(\"Effective horizontal hydraulic conductivity (Keff_hs) = {0:1.3E}\".format(Keff_hs), \"m/s\\n\" )\n",
    "print(\"Hydraulic conductivity of sand layer (K_s) = {0:1.1E}\".format(K_s), \"m/s\\n\" )     "
   ]
  },
  {
   "cell_type": "code",
   "execution_count": 21,
   "metadata": {
    "ExecuteTime": {
     "end_time": "2021-11-08T09:17:49.116291Z",
     "start_time": "2021-11-08T09:17:49.073447Z"
    },
    "code_folding": [
     0
    ],
    "slideshow": {
     "slide_type": "subslide"
    },
    "tags": [
     "hide-input"
    ]
   },
   "outputs": [
    {
     "data": {},
     "metadata": {},
     "output_type": "display_data"
    },
    {
     "data": {
      "application/vnd.holoviews_exec.v0+json": "",
      "text/html": [
       "<div id='1050'>\n",
       "\n",
       "\n",
       "\n",
       "\n",
       "\n",
       "  <div class=\"bk-root\" id=\"2794d38c-0c97-483d-afa8-373365b4c1da\" data-root-id=\"1050\"></div>\n",
       "</div>\n",
       "<script type=\"application/javascript\">(function(root) {\n",
       "  function embed_document(root) {\n",
       "    var docs_json = {\"89a16ed8-7a59-40d6-9d93-0fcd0db0aa73\":{\"defs\":[{\"extends\":null,\"module\":null,\"name\":\"ReactiveHTML1\",\"overrides\":[],\"properties\":[]},{\"extends\":null,\"module\":null,\"name\":\"FlexBox1\",\"overrides\":[],\"properties\":[{\"default\":\"flex-start\",\"kind\":null,\"name\":\"align_content\"},{\"default\":\"flex-start\",\"kind\":null,\"name\":\"align_items\"},{\"default\":\"row\",\"kind\":null,\"name\":\"flex_direction\"},{\"default\":\"wrap\",\"kind\":null,\"name\":\"flex_wrap\"},{\"default\":\"flex-start\",\"kind\":null,\"name\":\"justify_content\"}]},{\"extends\":null,\"module\":null,\"name\":\"TemplateActions1\",\"overrides\":[],\"properties\":[{\"default\":0,\"kind\":null,\"name\":\"open_modal\"},{\"default\":0,\"kind\":null,\"name\":\"close_modal\"}]},{\"extends\":null,\"module\":null,\"name\":\"MaterialTemplateActions1\",\"overrides\":[],\"properties\":[{\"default\":0,\"kind\":null,\"name\":\"open_modal\"},{\"default\":0,\"kind\":null,\"name\":\"close_modal\"}]}],\"roots\":{\"references\":[{\"attributes\":{\"margin\":[5,5,5,5],\"min_width\":100,\"name\":\"Spacer00183\",\"width\":100},\"id\":\"1054\",\"type\":\"Spacer\"},{\"attributes\":{\"height\":152,\"margin\":[5,5,5,5],\"name\":\"PNG00187\",\"text\":\"&lt;img src=&quot;data:image/png;base64,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&quot; width=&quot;200px&quot; height=&quot;152px&quot; alt=&quot;&quot;&gt;&lt;/img&gt;\",\"width\":200},\"id\":\"1052\",\"type\":\"panel.models.markup.HTML\"},{\"attributes\":{\"margin\":[5,5,5,5],\"name\":\"LaTeX00192\",\"style\":{\"font-size\":\"13pt\"},\"text\":\"\\nVertical effective conductivity is given by weighted harmoninc mean\\n\\n$$\\nK = \\\\frac{m}{2\\\\cdot \\\\frac{m_g}{K_g} + \\\\frac{m_s}{K_s} }\\n$$\\n\\n<br>\\nFor inclined aquider the effective conductivity is:\\n\\n$$\\nK = \\\\frac{1}{\\\\frac{\\\\cos^2\\\\theta}{K_h} + \\\\frac{\\\\sin^2\\\\theta}{K_v}}\\n$$\\n\\n\"},\"id\":\"1055\",\"type\":\"panel.models.katex.KaTeX\"},{\"attributes\":{\"height\":96,\"margin\":[5,5,5,5],\"name\":\"PNG00189\",\"text\":\"&lt;img src=&quot;data:image/png;base64,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&quot; width=&quot;200px&quot; height=&quot;96px&quot; alt=&quot;&quot;&gt;&lt;/img&gt;\",\"width\":200},\"id\":\"1053\",\"type\":\"panel.models.markup.HTML\"},{\"attributes\":{\"children\":[{\"id\":\"1051\"},{\"id\":\"1054\"},{\"id\":\"1055\"}],\"margin\":[0,0,0,0],\"name\":\"Row00194\"},\"id\":\"1050\",\"type\":\"Row\"},{\"attributes\":{\"children\":[{\"id\":\"1052\"},{\"id\":\"1053\"}],\"margin\":[0,0,0,0],\"name\":\"Column00191\"},\"id\":\"1051\",\"type\":\"Column\"},{\"attributes\":{\"client_comm_id\":\"2be941ce43984c79998609c966c0c74f\",\"comm_id\":\"d804368e15964b19be2c70049231799f\",\"plot_id\":\"1050\"},\"id\":\"1056\",\"type\":\"panel.models.comm_manager.CommManager\"}],\"root_ids\":[\"1050\",\"1056\"]},\"title\":\"Bokeh Application\",\"version\":\"2.3.2\"}};\n",
       "    var render_items = [{\"docid\":\"89a16ed8-7a59-40d6-9d93-0fcd0db0aa73\",\"root_ids\":[\"1050\"],\"roots\":{\"1050\":\"2794d38c-0c97-483d-afa8-373365b4c1da\"}}];\n",
       "    root.Bokeh.embed.embed_items_notebook(docs_json, render_items);\n",
       "  }\n",
       "  if (root.Bokeh !== undefined && root.Bokeh.Panel !== undefined && ( root['katex'] !== undefined)) {\n",
       "    embed_document(root);\n",
       "  } else {\n",
       "    var attempts = 0;\n",
       "    var timer = setInterval(function(root) {\n",
       "      if (root.Bokeh !== undefined && root.Bokeh.Panel !== undefined && (root['katex'] !== undefined)) {\n",
       "        clearInterval(timer);\n",
       "        embed_document(root);\n",
       "      } else if (document.readyState == \"complete\") {\n",
       "        attempts++;\n",
       "        if (attempts > 200) {\n",
       "          clearInterval(timer);\n",
       "          console.log(\"Bokeh: ERROR: Unable to run BokehJS code because BokehJS library is missing\");\n",
       "        }\n",
       "      }\n",
       "    }, 25, root)\n",
       "  }\n",
       "})(window);</script>"
      ],
      "text/plain": [
       "Row\n",
       "    [0] Column\n",
       "        [0] PNG(str, width=200)\n",
       "        [1] PNG(str, width=200)\n",
       "    [1] Spacer(width=100)\n",
       "    [2] LaTeX(str, style={'font-size': '13pt'})"
      ]
     },
     "execution_count": 21,
     "metadata": {
      "application/vnd.holoviews_exec.v0+json": {
       "id": "1050"
      }
     },
     "output_type": "execute_result"
    }
   ],
   "source": [
    "#Given Solution of 11 c, d\n",
    "\n",
    "r5_5 = pn.pane.PNG(\"images/T04_TP11_b.png\", width=200) \n",
    "r5_6 = pn.pane.PNG(\"images/T04_TP11_c.png\", width=200) \n",
    "\n",
    "r5_7 = pn.Column(r5_5, r5_6) \n",
    "\n",
    "r5_8 = pn.pane.LaTeX(r\"\"\"\n",
    "Vertical effective conductivity is given by weighted harmoninc mean\n",
    "\n",
    "$$\n",
    "K = \\frac{m}{2\\cdot \\frac{m_g}{K_g} + \\frac{m_s}{K_s} }\n",
    "$$\n",
    "\n",
    "<br>\n",
    "For inclined aquider the effective conductivity is:\n",
    "\n",
    "$$\n",
    "K = \\frac{1}{\\frac{\\cos^2\\theta}{K_h} + \\frac{\\sin^2\\theta}{K_v}}\n",
    "$$\n",
    "\n",
    "\"\"\", style={'font-size': '13pt'})\n",
    "\n",
    "pn.Row(r5_7,spacer2, r5_8) "
   ]
  },
  {
   "cell_type": "code",
   "execution_count": 31,
   "metadata": {
    "ExecuteTime": {
     "end_time": "2020-11-26T09:46:14.585108Z",
     "start_time": "2020-11-26T09:46:14.553352Z"
    },
    "code_folding": [],
    "slideshow": {
     "slide_type": "-"
    }
   },
   "outputs": [
    {
     "name": "stdout",
     "output_type": "stream",
     "text": [
      "\n",
      "\n",
      "Effective horizontal hydraulic conductivity (Keff_hs) = 2.10E-03 m/s\n",
      "\n",
      "Effective vertical hydraulic conductivity (Keff_v) = 3.93E-04 m/s\n",
      "\n",
      "Effective inclined hydraulic conductivity (Keff_i) = 6.62E-04 m/s\n",
      "\n"
     ]
    }
   ],
   "source": [
    "# Solution of 11c\n",
    "\n",
    "Keff_v = m/(2*(m_g/K_g)+ (m_s/K_s)) # m/s, conductivity K_v\n",
    "\n",
    "#Given \n",
    "theta = 45 # theta \n",
    "theta_r = theta*(np.pi)/180 # degree to radian conversion\n",
    "K_h = Keff_hs # m/s, solution from 11a\n",
    "K_v = Keff_v # m/s, solution from 11c\n",
    "\n",
    "# solution from 11d\n",
    "Keff_i = 1/((np.cos(theta_r)**2/K_h)+(np.sin(theta_r)**2/K_v))\n",
    "\n",
    "print(\"\\n\")\n",
    "print(\"Effective horizontal hydraulic conductivity (Keff_hs) = {0:1.2E}\".format(Keff_hs), \"m/s\\n\" ) \n",
    "print(\"Effective vertical hydraulic conductivity (Keff_v) = {0:1.2E}\".format(Keff_v), \"m/s\\n\" ) \n",
    "print(\"Effective inclined hydraulic conductivity (Keff_i) = {0:1.2E}\".format(Keff_i), \"m/s\\n\" ) \n"
   ]
  },
  {
   "cell_type": "code",
   "execution_count": 22,
   "metadata": {
    "ExecuteTime": {
     "end_time": "2021-11-08T09:18:40.563025Z",
     "start_time": "2021-11-08T09:18:40.532351Z"
    },
    "slideshow": {
     "slide_type": "slide"
    },
    "tags": [
     "hide-input"
    ]
   },
   "outputs": [
    {
     "data": {},
     "metadata": {},
     "output_type": "display_data"
    },
    {
     "data": {
      "application/vnd.holoviews_exec.v0+json": "",
      "text/html": [
       "<div id='1057'>\n",
       "\n",
       "\n",
       "\n",
       "\n",
       "\n",
       "  <div class=\"bk-root\" id=\"1751ea74-3c2c-4eae-8c70-599dbb71a090\" data-root-id=\"1057\"></div>\n",
       "</div>\n",
       "<script type=\"application/javascript\">(function(root) {\n",
       "  function embed_document(root) {\n",
       "    var docs_json = {\"ea3cc4dc-f18c-4f91-bf1b-46ac7bcb3dba\":{\"defs\":[{\"extends\":null,\"module\":null,\"name\":\"ReactiveHTML1\",\"overrides\":[],\"properties\":[]},{\"extends\":null,\"module\":null,\"name\":\"FlexBox1\",\"overrides\":[],\"properties\":[{\"default\":\"flex-start\",\"kind\":null,\"name\":\"align_content\"},{\"default\":\"flex-start\",\"kind\":null,\"name\":\"align_items\"},{\"default\":\"row\",\"kind\":null,\"name\":\"flex_direction\"},{\"default\":\"wrap\",\"kind\":null,\"name\":\"flex_wrap\"},{\"default\":\"flex-start\",\"kind\":null,\"name\":\"justify_content\"}]},{\"extends\":null,\"module\":null,\"name\":\"TemplateActions1\",\"overrides\":[],\"properties\":[{\"default\":0,\"kind\":null,\"name\":\"open_modal\"},{\"default\":0,\"kind\":null,\"name\":\"close_modal\"}]},{\"extends\":null,\"module\":null,\"name\":\"MaterialTemplateActions1\",\"overrides\":[],\"properties\":[{\"default\":0,\"kind\":null,\"name\":\"open_modal\"},{\"default\":0,\"kind\":null,\"name\":\"close_modal\"}]}],\"roots\":{\"references\":[{\"attributes\":{\"css_classes\":[\"markdown\"],\"margin\":[5,5,5,5],\"name\":\"Markdown00199\",\"style\":{\"color\":\"red\",\"font-size\":\"12pt\"},\"text\":\"&lt;h3&gt;There is no obligation to solve homework problems!&lt;/h3&gt;\",\"width\":800},\"id\":\"1059\",\"type\":\"panel.models.markup.HTML\"},{\"attributes\":{\"css_classes\":[\"markdown\"],\"margin\":[5,5,5,5],\"name\":\"Markdown00197\",\"style\":{\"font-size\":\"12pt\"},\"text\":\"&lt;h2&gt;Homework Problems on  Effective Conductivity &lt;br&gt;&lt;br&gt;&lt;br&gt;&lt;/h2&gt;\",\"width\":800},\"id\":\"1058\",\"type\":\"panel.models.markup.HTML\"},{\"attributes\":{\"client_comm_id\":\"f1f7125ccc3249898aefcd79ac96ea1b\",\"comm_id\":\"d27389905111431da4ee83a53f3ba737\",\"plot_id\":\"1057\"},\"id\":\"1060\",\"type\":\"panel.models.comm_manager.CommManager\"},{\"attributes\":{\"children\":[{\"id\":\"1058\"},{\"id\":\"1059\"}],\"margin\":[0,0,0,0],\"name\":\"Column00201\"},\"id\":\"1057\",\"type\":\"Column\"}],\"root_ids\":[\"1057\",\"1060\"]},\"title\":\"Bokeh Application\",\"version\":\"2.3.2\"}};\n",
       "    var render_items = [{\"docid\":\"ea3cc4dc-f18c-4f91-bf1b-46ac7bcb3dba\",\"root_ids\":[\"1057\"],\"roots\":{\"1057\":\"1751ea74-3c2c-4eae-8c70-599dbb71a090\"}}];\n",
       "    root.Bokeh.embed.embed_items_notebook(docs_json, render_items);\n",
       "  }\n",
       "  if (root.Bokeh !== undefined && root.Bokeh.Panel !== undefined && ( root['katex'] !== undefined)) {\n",
       "    embed_document(root);\n",
       "  } else {\n",
       "    var attempts = 0;\n",
       "    var timer = setInterval(function(root) {\n",
       "      if (root.Bokeh !== undefined && root.Bokeh.Panel !== undefined && (root['katex'] !== undefined)) {\n",
       "        clearInterval(timer);\n",
       "        embed_document(root);\n",
       "      } else if (document.readyState == \"complete\") {\n",
       "        attempts++;\n",
       "        if (attempts > 200) {\n",
       "          clearInterval(timer);\n",
       "          console.log(\"Bokeh: ERROR: Unable to run BokehJS code because BokehJS library is missing\");\n",
       "        }\n",
       "      }\n",
       "    }, 25, root)\n",
       "  }\n",
       "})(window);</script>"
      ],
      "text/plain": [
       "Column\n",
       "    [0] Markdown(str, style={'font-size': '12pt'}, width=800)\n",
       "    [1] Markdown(str, style={'font-size': '12pt', ...}, width=800)"
      ]
     },
     "execution_count": 22,
     "metadata": {
      "application/vnd.holoviews_exec.v0+json": {
       "id": "1057"
      }
     },
     "output_type": "execute_result"
    }
   ],
   "source": [
    "r8_1= pn.pane.Markdown(\"\"\"\n",
    "##Homework Problems on  Effective Conductivity <br><br><br> \n",
    "\"\"\", width = 800, style={'font-size': '12pt'})\n",
    "\n",
    "\n",
    "r8_2= pn.pane.Markdown(\"\"\"\n",
    "### There is no obligation to solve homework problems!\n",
    "\"\"\", width = 800, style={'font-size': '12pt', 'color':'red'})\n",
    "\n",
    "pn.Column(r8_1,r8_2)  "
   ]
  },
  {
   "cell_type": "code",
   "execution_count": 23,
   "metadata": {
    "ExecuteTime": {
     "end_time": "2021-11-08T09:18:45.997894Z",
     "start_time": "2021-11-08T09:18:45.968694Z"
    },
    "code_folding": [
     0
    ],
    "slideshow": {
     "slide_type": "slide"
    },
    "tags": [
     "hide-input"
    ]
   },
   "outputs": [
    {
     "data": {},
     "metadata": {},
     "output_type": "display_data"
    },
    {
     "data": {
      "application/vnd.holoviews_exec.v0+json": "",
      "text/html": [
       "<div id='1061'>\n",
       "\n",
       "\n",
       "\n",
       "\n",
       "\n",
       "  <div class=\"bk-root\" id=\"65b1074e-3752-47c6-b94b-8641f863ddf9\" data-root-id=\"1061\"></div>\n",
       "</div>\n",
       "<script type=\"application/javascript\">(function(root) {\n",
       "  function embed_document(root) {\n",
       "    var docs_json = {\"682578d0-2941-46e3-b2b3-c2a9a473036d\":{\"defs\":[{\"extends\":null,\"module\":null,\"name\":\"ReactiveHTML1\",\"overrides\":[],\"properties\":[]},{\"extends\":null,\"module\":null,\"name\":\"FlexBox1\",\"overrides\":[],\"properties\":[{\"default\":\"flex-start\",\"kind\":null,\"name\":\"align_content\"},{\"default\":\"flex-start\",\"kind\":null,\"name\":\"align_items\"},{\"default\":\"row\",\"kind\":null,\"name\":\"flex_direction\"},{\"default\":\"wrap\",\"kind\":null,\"name\":\"flex_wrap\"},{\"default\":\"flex-start\",\"kind\":null,\"name\":\"justify_content\"}]},{\"extends\":null,\"module\":null,\"name\":\"TemplateActions1\",\"overrides\":[],\"properties\":[{\"default\":0,\"kind\":null,\"name\":\"open_modal\"},{\"default\":0,\"kind\":null,\"name\":\"close_modal\"}]},{\"extends\":null,\"module\":null,\"name\":\"MaterialTemplateActions1\",\"overrides\":[],\"properties\":[{\"default\":0,\"kind\":null,\"name\":\"open_modal\"},{\"default\":0,\"kind\":null,\"name\":\"close_modal\"}]}],\"roots\":{\"references\":[{\"attributes\":{\"client_comm_id\":\"cdf504cedc364f36b9d259335f06b1ee\",\"comm_id\":\"36736103fdd148f0b4c0f2742eed47d1\",\"plot_id\":\"1061\"},\"id\":\"1062\",\"type\":\"panel.models.comm_manager.CommManager\"},{\"attributes\":{\"css_classes\":[\"markdown\"],\"margin\":[5,5,5,5],\"name\":\"Markdown00204\",\"style\":{\"font-size\":\"12pt\"},\"text\":\"&lt;h3&gt;Homework Problem 5: Effective Hydraulic Conductivity&lt;/h3&gt;\\n&lt;p&gt;A gravel layer with a thickness of 2.5 m is embedded between two sand layers. Both sand layers have a thickness of \\n1.5 m and a hydraulic conductivity of 3.7\\u00b710&lt;sup&gt;-4&lt;/sup&gt; m/s. Steady-state groundwater flow is perpendicular to the layering. \\nAn overall head difference of 5.5 cm and a discharge of 500 l/d per unit area have been determined &lt;br&gt;&lt;br&gt;&lt;/p&gt;\\n&lt;p&gt;&lt;strong&gt;a.&lt;/strong&gt; Determine the effective hydraulic conductivity.&lt;br&gt;&lt;br&gt;\\n&lt;strong&gt;b.&lt;/strong&gt; What is the hydraulic conductivity of the gravel layer?&lt;br&gt;&lt;br&gt;\\n&lt;strong&gt;c.&lt;/strong&gt; Which effective hydraulic conductivity would be obtained if flow was assumed to be in parallel with the layering?&lt;br&gt;&lt;br&gt;\\n&lt;strong&gt;d.&lt;/strong&gt; Calculate effective hydraulic conductivity if the angle between the flow direction and the layering equals 30\\u00b0. &lt;br&gt;&lt;/p&gt;\",\"width\":900},\"id\":\"1061\",\"type\":\"panel.models.markup.HTML\"}],\"root_ids\":[\"1061\",\"1062\"]},\"title\":\"Bokeh Application\",\"version\":\"2.3.2\"}};\n",
       "    var render_items = [{\"docid\":\"682578d0-2941-46e3-b2b3-c2a9a473036d\",\"root_ids\":[\"1061\"],\"roots\":{\"1061\":\"65b1074e-3752-47c6-b94b-8641f863ddf9\"}}];\n",
       "    root.Bokeh.embed.embed_items_notebook(docs_json, render_items);\n",
       "  }\n",
       "  if (root.Bokeh !== undefined && root.Bokeh.Panel !== undefined && ( root['katex'] !== undefined)) {\n",
       "    embed_document(root);\n",
       "  } else {\n",
       "    var attempts = 0;\n",
       "    var timer = setInterval(function(root) {\n",
       "      if (root.Bokeh !== undefined && root.Bokeh.Panel !== undefined && (root['katex'] !== undefined)) {\n",
       "        clearInterval(timer);\n",
       "        embed_document(root);\n",
       "      } else if (document.readyState == \"complete\") {\n",
       "        attempts++;\n",
       "        if (attempts > 200) {\n",
       "          clearInterval(timer);\n",
       "          console.log(\"Bokeh: ERROR: Unable to run BokehJS code because BokehJS library is missing\");\n",
       "        }\n",
       "      }\n",
       "    }, 25, root)\n",
       "  }\n",
       "})(window);</script>"
      ],
      "text/plain": [
       "Markdown(str, style={'font-size': '12pt'}, width=900)"
      ]
     },
     "execution_count": 23,
     "metadata": {
      "application/vnd.holoviews_exec.v0+json": {
       "id": "1061"
      }
     },
     "output_type": "execute_result"
    }
   ],
   "source": [
    "#\n",
    "r9_1= pn.pane.Markdown(\"\"\"\n",
    "### Homework Problem 5: Effective Hydraulic Conductivity ###\n",
    "A gravel layer with a thickness of 2.5 m is embedded between two sand layers. Both sand layers have a thickness of \n",
    "1.5 m and a hydraulic conductivity of 3.7·10<sup>-4</sup> m/s. Steady-state groundwater flow is perpendicular to the layering. \n",
    "An overall head difference of 5.5 cm and a discharge of 500 l/d per unit area have been determined <br><br>\n",
    "\n",
    "**a.** Determine the effective hydraulic conductivity.<br><br>\n",
    "**b.** What is the hydraulic conductivity of the gravel layer?<br><br>\n",
    "**c.** Which effective hydraulic conductivity would be obtained if flow was assumed to be in parallel with the layering?<br><br>\n",
    "**d.** Calculate effective hydraulic conductivity if the angle between the flow direction and the layering equals 30°. <br>\n",
    "\n",
    "\"\"\", width = 900, style={'font-size': '12pt'})\n",
    "r9_1\n"
   ]
  }
 ],
 "metadata": {
  "author": "me",
  "celltoolbar": "Slideshow",
  "hide_input": false,
  "kernel_info": {
   "name": "python3"
  },
  "kernelspec": {
   "display_name": "Python 3",
   "language": "python",
   "name": "python3"
  },
  "language_info": {
   "codemirror_mode": {
    "name": "ipython",
    "version": 3
   },
   "file_extension": ".py",
   "mimetype": "text/x-python",
   "name": "python",
   "nbconvert_exporter": "python",
   "pygments_lexer": "ipython3",
   "version": "3.8.8"
  },
  "latex_envs": {
   "LaTeX_envs_menu_present": true,
   "autoclose": false,
   "autocomplete": true,
   "bibliofile": "biblio.bib",
   "cite_by": "apalike",
   "current_citInitial": 1,
   "eqLabelWithNumbers": false,
   "eqNumInitial": 1,
   "hotkeys": {
    "equation": "Ctrl-E",
    "itemize": "Ctrl-I"
   },
   "labels_anchors": false,
   "latex_user_defs": false,
   "report_style_numbering": false,
   "user_envs_cfg": true
  },
  "nteract": {
   "version": "0.15.0"
  },
  "toc": {
   "base_numbering": 1,
   "nav_menu": {},
   "number_sections": true,
   "sideBar": true,
   "skip_h1_title": false,
   "title_cell": "Table of Contents",
   "title_sidebar": "Contents",
   "toc_cell": false,
   "toc_position": {},
   "toc_section_display": true,
   "toc_window_display": false
  },
  "varInspector": {
   "cols": {
    "lenName": 16,
    "lenType": 16,
    "lenVar": 40
   },
   "kernels_config": {
    "python": {
     "delete_cmd_postfix": "",
     "delete_cmd_prefix": "del ",
     "library": "var_list.py",
     "varRefreshCmd": "print(var_dic_list())"
    },
    "r": {
     "delete_cmd_postfix": ") ",
     "delete_cmd_prefix": "rm(",
     "library": "var_list.r",
     "varRefreshCmd": "cat(var_dic_list()) "
    }
   },
   "position": {
    "height": "609.391px",
    "left": "1161.6px",
    "right": "20px",
    "top": "120px",
    "width": "653.391px"
   },
   "types_to_exclude": [
    "module",
    "function",
    "builtin_function_or_method",
    "instance",
    "_Feature"
   ],
   "window_display": false
  }
 },
 "nbformat": 4,
 "nbformat_minor": 4
}
