{
 "cells": [
  {
   "cell_type": "code",
   "execution_count": null,
   "metadata": {
    "slideshow": {
     "slide_type": "slide"
    }
   },
   "outputs": [],
   "source": [
    "import numpy as np\n",
    "import matplotlib.pyplot as plt\n",
    "import pandas as pd \n",
    "import panel as pn\n",
    "from scipy import stats \n",
    "from ipywidgets import interactive, interact, FloatSlider\n",
    "pn.extension('katex', 'mathjax') \n"
   ]
  },
  {
   "cell_type": "code",
   "execution_count": 3,
   "metadata": {},
   "outputs": [],
   "source": [
    "df_t1 =np.array([1, 2,    3,    4,    5,    7,    9,   12,   18,   23,   33, 41,   56,  126,  636, 1896])\n",
    "df_s1 = np.array([0.01, 0.03, 0.05, 0.06, 0.07, 0.09, 0.12, 0.14, 0.16, 0.17, 0.18, 0.19, 0.2 , 0.22, 0.3 , 0.32])\n",
    "\n",
    "r = 9.85 # m, observation well distance\n",
    "t_s = df_t1*60 # s, converting time in s\n",
    "t_r2 = t_s/r**2# s/m^2,  finding t/r^2 \n"
   ]
  },
  {
   "cell_type": "code",
   "execution_count": 4,
   "metadata": {},
   "outputs": [
    {
     "data": {
      "text/html": [
       "<div>\n",
       "<style scoped>\n",
       "    .dataframe tbody tr th:only-of-type {\n",
       "        vertical-align: middle;\n",
       "    }\n",
       "\n",
       "    .dataframe tbody tr th {\n",
       "        vertical-align: top;\n",
       "    }\n",
       "\n",
       "    .dataframe thead th {\n",
       "        text-align: right;\n",
       "    }\n",
       "</style>\n",
       "<table border=\"1\" class=\"dataframe\">\n",
       "  <thead>\n",
       "    <tr style=\"text-align: right;\">\n",
       "      <th></th>\n",
       "      <th>time [min]</th>\n",
       "      <th>drawdown [m]</th>\n",
       "      <th>t/r2 (s/m^2)</th>\n",
       "    </tr>\n",
       "  </thead>\n",
       "  <tbody>\n",
       "    <tr>\n",
       "      <th>0</th>\n",
       "      <td>1</td>\n",
       "      <td>0.01</td>\n",
       "      <td>0.618413</td>\n",
       "    </tr>\n",
       "    <tr>\n",
       "      <th>1</th>\n",
       "      <td>2</td>\n",
       "      <td>0.03</td>\n",
       "      <td>1.236827</td>\n",
       "    </tr>\n",
       "    <tr>\n",
       "      <th>2</th>\n",
       "      <td>3</td>\n",
       "      <td>0.05</td>\n",
       "      <td>1.855240</td>\n",
       "    </tr>\n",
       "    <tr>\n",
       "      <th>3</th>\n",
       "      <td>4</td>\n",
       "      <td>0.06</td>\n",
       "      <td>2.473653</td>\n",
       "    </tr>\n",
       "    <tr>\n",
       "      <th>4</th>\n",
       "      <td>5</td>\n",
       "      <td>0.07</td>\n",
       "      <td>3.092066</td>\n",
       "    </tr>\n",
       "    <tr>\n",
       "      <th>5</th>\n",
       "      <td>7</td>\n",
       "      <td>0.09</td>\n",
       "      <td>4.328893</td>\n",
       "    </tr>\n",
       "    <tr>\n",
       "      <th>6</th>\n",
       "      <td>9</td>\n",
       "      <td>0.12</td>\n",
       "      <td>5.565719</td>\n",
       "    </tr>\n",
       "    <tr>\n",
       "      <th>7</th>\n",
       "      <td>12</td>\n",
       "      <td>0.14</td>\n",
       "      <td>7.420959</td>\n",
       "    </tr>\n",
       "    <tr>\n",
       "      <th>8</th>\n",
       "      <td>18</td>\n",
       "      <td>0.16</td>\n",
       "      <td>11.131439</td>\n",
       "    </tr>\n",
       "    <tr>\n",
       "      <th>9</th>\n",
       "      <td>23</td>\n",
       "      <td>0.17</td>\n",
       "      <td>14.223505</td>\n",
       "    </tr>\n",
       "    <tr>\n",
       "      <th>10</th>\n",
       "      <td>33</td>\n",
       "      <td>0.18</td>\n",
       "      <td>20.407637</td>\n",
       "    </tr>\n",
       "    <tr>\n",
       "      <th>11</th>\n",
       "      <td>41</td>\n",
       "      <td>0.19</td>\n",
       "      <td>25.354943</td>\n",
       "    </tr>\n",
       "    <tr>\n",
       "      <th>12</th>\n",
       "      <td>56</td>\n",
       "      <td>0.20</td>\n",
       "      <td>34.631142</td>\n",
       "    </tr>\n",
       "    <tr>\n",
       "      <th>13</th>\n",
       "      <td>126</td>\n",
       "      <td>0.22</td>\n",
       "      <td>77.920070</td>\n",
       "    </tr>\n",
       "    <tr>\n",
       "      <th>14</th>\n",
       "      <td>636</td>\n",
       "      <td>0.30</td>\n",
       "      <td>393.310830</td>\n",
       "    </tr>\n",
       "    <tr>\n",
       "      <th>15</th>\n",
       "      <td>1896</td>\n",
       "      <td>0.32</td>\n",
       "      <td>1172.511531</td>\n",
       "    </tr>\n",
       "  </tbody>\n",
       "</table>\n",
       "</div>"
      ],
      "text/plain": [
       "    time [min]  drawdown [m]  t/r2 (s/m^2)\n",
       "0            1          0.01      0.618413\n",
       "1            2          0.03      1.236827\n",
       "2            3          0.05      1.855240\n",
       "3            4          0.06      2.473653\n",
       "4            5          0.07      3.092066\n",
       "5            7          0.09      4.328893\n",
       "6            9          0.12      5.565719\n",
       "7           12          0.14      7.420959\n",
       "8           18          0.16     11.131439\n",
       "9           23          0.17     14.223505\n",
       "10          33          0.18     20.407637\n",
       "11          41          0.19     25.354943\n",
       "12          56          0.20     34.631142\n",
       "13         126          0.22     77.920070\n",
       "14         636          0.30    393.310830\n",
       "15        1896          0.32   1172.511531"
      ]
     },
     "execution_count": 4,
     "metadata": {},
     "output_type": "execute_result"
    }
   ],
   "source": [
    "\n",
    "#given\n",
    "r = 9.85 # m, observation well distance\n",
    "t_s = df_t1*60 # s, converting time in s\n",
    "t_r2 = t_s/r**2# s/m^2,  finding t/r^2 \n",
    "\n",
    "#output\n",
    "d2= {'time [min]': df_t1, 'drawdown [m]': df_s1, \"t/r2 (s/m^2)\": t_r2}  \n",
    "df2 = pd.DataFrame(data=d2, index=None) \n",
    "\n",
    "df2 "
   ]
  },
  {
   "cell_type": "code",
   "execution_count": 5,
   "metadata": {
    "code_folding": [
     0
    ]
   },
   "outputs": [
    {
     "data": {
      "image/png": "[encoded data removed]",
      "text/plain": [
       "<Figure size 648x432 with 1 Axes>"
      ]
     },
     "metadata": {
      "needs_background": "light"
     },
     "output_type": "display_data"
    }
   ],
   "source": [
    "#\n",
    "# Typ curve\n",
    "#code to find W(u) using the infinite series W(u) = -0.5772-log(u)+u-u^2/(2*2!)+u^3/(3*3!)+... (100 terms) \n",
    "# It is possible to use: from scipy.special import expi def W(u):  return  -expi(-u)\n",
    "\n",
    "def W(u):\n",
    "    \n",
    "    tol = 1e-5\n",
    "    w = -0.5772 -np.log(u) + u\n",
    "    a = u\n",
    "    for n in range(1, 100):\n",
    "        a = -a * u * n / (n+1)**2 # new term (next term)\n",
    "        w += a\n",
    "        if np.all(a) < tol:\n",
    "            return w\n",
    "        \n",
    "u_1 = np.logspace(10,-1,250, base=10.0)\n",
    "w_u =W(1/u_1) \n",
    "        \n",
    "plt.figure(figsize=(9,6)) \n",
    "plt.loglog(u_1, w_u) \n",
    "plt.title(\"The typ curve\")\n",
    "plt.ylim((0.1, 10))\n",
    "plt.xlim(1, 1e5)\n",
    "plt.grid(True, which=\"both\",ls=\"-\") \n",
    "plt.ylabel(r\"W(u)\");\n",
    "plt.xlabel(r\"1/u\") ;"
   ]
  },
  {
   "cell_type": "code",
   "execution_count": 6,
   "metadata": {},
   "outputs": [
    {
     "data": {
      "image/png": "[encoded data removed]",
      "text/plain": [
       "<Figure size 648x432 with 1 Axes>"
      ]
     },
     "metadata": {
      "needs_background": "light"
     },
     "output_type": "display_data"
    }
   ],
   "source": [
    "#\n",
    "# Solution from typ curve\n",
    "\n",
    "# Data to fit\n",
    "p_r = 9 # m^3/h, pumping rate /3600 for unit /h- /s\n",
    "Q = p_r/3600 # m^3/s, pumping rate per second\n",
    "r = 9.85 # m, distance of observation well\n",
    "m = 5 # m, aquifer thickness\n",
    "d_s = df_s1 # m, drawdown data\n",
    "t_s = t_s # s, time data in s\n",
    "\n",
    "S_C = 7.97e-03 # (-), storage coeff.\n",
    "T = 0.00332 # m^2/s, transmissivity\n",
    "K_aq = T/m\n",
    "\n",
    "#Calculations\n",
    "u_1d = 4*T*t_s/(S_C*r**2)  \n",
    "w_ud = 4*np.pi*d_s*T/Q\n",
    "\n",
    "# plots\n",
    "u_1 = np.logspace(10,-1,250, base=10.0)\n",
    "w_u =W(1/u_1) \n",
    "        \n",
    "plt.figure(figsize=(9,6)) \n",
    "plt.loglog(u_1, w_u) \n",
    "plt.loglog(u_1d, w_ud, \"o\", color=\"red\"  )\n",
    "plt.ylim((0.1, 10))\n",
    "plt.xlim(1, 1e5)\n",
    "plt.grid(True, which=\"both\",ls=\"-\") \n",
    "plt.ylabel(r\"W(u)\");\n",
    "plt.xlabel(r\"1/u\") ; "
   ]
  },
  {
   "cell_type": "code",
   "execution_count": 24,
   "metadata": {},
   "outputs": [
    {
     "data": {
      "application/vnd.jupyter.widget-view+json": {
       "model_id": "902b21184bb64222b494f49d986363aa",
       "version_major": 2,
       "version_minor": 0
      },
      "text/plain": [
       "interactive(children=(FloatSlider(value=0.049010000000000005, description='T', max=0.1, min=1e-05, step=0.001)…"
      ]
     },
     "metadata": {},
     "output_type": "display_data"
    }
   ],
   "source": [
    "def f(T, S_C, r, Q):\n",
    "    d_s = np.array([0.01, 0.03, 0.05, 0.06, 0.07, 0.09, 0.12, 0.14, 0.16, 0.17, 0.18,\n",
    "       0.19, 0.2 , 0.22, 0.3 , 0.32])\n",
    "    t_s = np.array([    60,    120,    180,    240,    300,    420,    540,    720,\n",
    "         1080,   1380,   1980,   2460,   3360,   7560,  38160, 113760])\n",
    "    u_1d = 4*T*t_s/(S_C*r**2)  \n",
    "    w_ud = 4*np.pi*d_s*T/Q   \n",
    "\n",
    "    # plots\n",
    "    u_1 = np.logspace(10,-1,250, base=10.0)\n",
    "    w_u =W(1/u_1) \n",
    "        \n",
    "    plt.figure(figsize=(9,6)) \n",
    "    plt.loglog(u_1, w_u) \n",
    "    plt.loglog(u_1d, w_ud, \"o\", color=\"red\"  )\n",
    "    plt.ylim((0.1, 10))\n",
    "    plt.xlim(1, 1e5)\n",
    "    plt.grid(True, which=\"both\",ls=\"-\") \n",
    "    plt.ylabel(r\"W(u)\");\n",
    "    plt.xlabel(r\"1/u\") ;\n",
    "\n",
    "\n",
    "#f(0.00332, 8e-3, 10, 5/3600)\n",
    "#interactive_plot = interactive(f, T, S_C, r, Q)\n",
    "\n",
    "interactive_plot = interactive(f, T=(1e-5, 1e-1, 0.001), S_C=(0.0005, 0.005, 0.0001), r= (1.0,15.0, 1 ), Q=(0.0002,0.02,0.001 ))\n",
    "output = interactive_plot.children[-1]\n",
    "output.layout.height = '350px'\n",
    "interactive_plot\n",
    "\n",
    "\n"
   ]
  },
  {
   "cell_type": "code",
   "execution_count": 25,
   "metadata": {},
   "outputs": [],
   "source": [
    "def slow_function(i):\n",
    "    print(int(i),list(x for x in range(int(i)) if\n",
    "                str(x)==str(x)[::-1] and\n",
    "                str(x**2)==str(x**2)[::-1]))\n",
    "    return"
   ]
  },
  {
   "cell_type": "code",
   "execution_count": 26,
   "metadata": {},
   "outputs": [
    {
     "data": {
      "application/vnd.jupyter.widget-view+json": {
       "model_id": "6cea7c9a4c064790860db7d4c73fa403",
       "version_major": 2,
       "version_minor": 0
      },
      "text/plain": [
       "interactive(children=(FloatSlider(value=100000.0, description='i', max=10000000.0, min=100000.0, step=100000.0…"
      ]
     },
     "metadata": {},
     "output_type": "display_data"
    }
   ],
   "source": [
    "from ipywidgets import FloatSlider\n",
    "interact(slow_function,i=FloatSlider(min=1e5, max=1e7, step=1e5)); "
   ]
  },
  {
   "cell_type": "code",
   "execution_count": null,
   "metadata": {},
   "outputs": [],
   "source": []
  }
 ],
 "metadata": {
  "celltoolbar": "Slideshow",
  "kernelspec": {
   "display_name": "Python 3",
   "language": "python",
   "name": "python3"
  },
  "language_info": {
   "codemirror_mode": {
    "name": "ipython",
    "version": 3
   },
   "file_extension": ".py",
   "mimetype": "text/x-python",
   "name": "python",
   "nbconvert_exporter": "python",
   "pygments_lexer": "ipython3",
   "version": "3.7.3"
  },
  "latex_envs": {
   "LaTeX_envs_menu_present": true,
   "autoclose": false,
   "autocomplete": false,
   "bibliofile": "biblio.bib",
   "cite_by": "apalike",
   "current_citInitial": 1,
   "eqLabelWithNumbers": false,
   "eqNumInitial": 1,
   "hotkeys": {
    "equation": "Ctrl-E",
    "itemize": "Ctrl-I"
   },
   "labels_anchors": false,
   "latex_user_defs": false,
   "report_style_numbering": false,
   "user_envs_cfg": false
  },
  "varInspector": {
   "cols": {
    "lenName": 16,
    "lenType": 16,
    "lenVar": 40
   },
   "kernels_config": {
    "python": {
     "delete_cmd_postfix": "",
     "delete_cmd_prefix": "del ",
     "library": "var_list.py",
     "varRefreshCmd": "print(var_dic_list())"
    },
    "r": {
     "delete_cmd_postfix": ") ",
     "delete_cmd_prefix": "rm(",
     "library": "var_list.r",
     "varRefreshCmd": "cat(var_dic_list()) "
    }
   },
   "types_to_exclude": [
    "module",
    "function",
    "builtin_function_or_method",
    "instance",
    "_Feature"
   ],
   "window_display": false
  }
 },
 "nbformat": 4,
 "nbformat_minor": 2
}
