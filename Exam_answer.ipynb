{
 "cells": [
  {
   "cell_type": "code",
   "execution_count": 1,
   "id": "conscious-duplicate",
   "metadata": {},
   "outputs": [],
   "source": [
    "import numpy as np"
   ]
  },
  {
   "cell_type": "code",
   "execution_count": 15,
   "id": "indonesian-eating",
   "metadata": {},
   "outputs": [
    {
     "data": {
      "text/plain": [
       "33.15"
      ]
     },
     "execution_count": 15,
     "metadata": {},
     "output_type": "execute_result"
    }
   ],
   "source": [
    "# 1\n",
    "a1 = 39 #kg/t\n",
    "b1 = 15 # %\n",
    "\n",
    "s1a = b1/100*a1\n",
    "s1b = a1-s1a\n",
    "s1b"
   ]
  },
  {
   "cell_type": "code",
   "execution_count": 3,
   "id": "advanced-privacy",
   "metadata": {},
   "outputs": [
    {
     "name": "stdout",
     "output_type": "stream",
     "text": [
      "0.875 875000000.0\n"
     ]
    }
   ],
   "source": [
    "#2 \n",
    "a2 = 3500 # km2\n",
    "b2 = 250 # mm/a eva\n",
    "s2a= (b2*a2)/1000000 # Km3/a\n",
    "s2b = s2a*10**9\n",
    "print(s2a, s2b)"
   ]
  },
  {
   "cell_type": "code",
   "execution_count": 4,
   "id": "ordinary-empire",
   "metadata": {},
   "outputs": [
    {
     "data": {
      "text/plain": [
       "0.1452"
      ]
     },
     "execution_count": 4,
     "metadata": {},
     "output_type": "execute_result"
    }
   ],
   "source": [
    "#8\n",
    "m8 = 121 #m\n",
    "k8 = 1.2 * 10**-3 # m/s\n",
    "tp8 = 0.39 # \n",
    "\n",
    "s8a = m8*k8\n",
    "s8a"
   ]
  },
  {
   "cell_type": "code",
   "execution_count": 5,
   "id": "southern-forest",
   "metadata": {},
   "outputs": [
    {
     "data": {
      "text/plain": [
       "0.007073045267489712"
      ]
     },
     "execution_count": 5,
     "metadata": {},
     "output_type": "execute_result"
    }
   ],
   "source": [
    "#11\n",
    "\n",
    "Q11 = 2.2 # m3/d/w\n",
    "Kg11 = 0.0037 # m/s\n",
    "mg11 = 1.2 # m , 2 times\n",
    "ms11 = 1.2 # m\n",
    "dh11 = 0.001\n",
    "\n",
    "m11 = 2*mg11+ms11\n",
    "\n",
    "Ke11 = Q11/(dh11*m11*24*3600) # m\n",
    "Ke11"
   ]
  },
  {
   "cell_type": "code",
   "execution_count": 6,
   "id": "municipal-branch",
   "metadata": {},
   "outputs": [
    {
     "data": {
      "text/plain": [
       "0.00049654296"
      ]
     },
     "execution_count": 6,
     "metadata": {},
     "output_type": "execute_result"
    }
   ],
   "source": [
    "#13\n",
    "a13 = 4.4*10**-10 # m2/N\n",
    "apm13 = 10**-8 # m2/N\n",
    "p13 = 0.28 # porosity %\n",
    "r13 = 1000 # kg/m3\n",
    "g13 = 9.81 # m/s2\n",
    "\n",
    "m13 = 5\n",
    "\n",
    "Ss13a =(p13*a13 + apm13)*r13*g13\n",
    "Ss13b= Ss13a*m13\n",
    "Ss13b\n"
   ]
  },
  {
   "cell_type": "code",
   "execution_count": 7,
   "id": "persistent-console",
   "metadata": {},
   "outputs": [
    {
     "name": "stdout",
     "output_type": "stream",
     "text": [
      "795215.6404399164 318.0862561759666\n"
     ]
    }
   ],
   "source": [
    "#14\n",
    "d14 = 150 # m , and\n",
    "t14 = 45 # m\n",
    "Ss14= 0.0005 # 1/m.\n",
    "dp14 = 0.8 #m,\n",
    "\n",
    "v14 = np.pi/4*d14**2*t14\n",
    "w14 = Ss14*dp14*v14\n",
    "print(v14, w14)"
   ]
  },
  {
   "cell_type": "code",
   "execution_count": 8,
   "id": "theoretical-verification",
   "metadata": {},
   "outputs": [
    {
     "data": {
      "text/plain": [
       "134.5022382074117"
      ]
     },
     "execution_count": 8,
     "metadata": {},
     "output_type": "execute_result"
    }
   ],
   "source": [
    "#14\n",
    "\n",
    "se14 = 3.15*10**-4 #1/s # slope\n",
    "l14 = 16.8 # cm L\n",
    "dc14 = 5.9 # cm\n",
    "dt14 = 3.2 # cm\n",
    "\n",
    "K14 = se14*l14*dt14**2/dc14**2 # cm/s\n",
    "K14 = K14*60*60*24\n",
    "K14"
   ]
  },
  {
   "cell_type": "code",
   "execution_count": 9,
   "id": "promotional-defendant",
   "metadata": {},
   "outputs": [
    {
     "name": "stdout",
     "output_type": "stream",
     "text": [
      "6969.599999999999 88.0\n"
     ]
    }
   ],
   "source": [
    "#22\n",
    "\n",
    "m22 =  48 #m\n",
    "w22 = 11*1000  # m\n",
    "K22 = 3.96 # m/d\n",
    "L22 = 1.5 *1000 # m\n",
    "h22_1 = 90 #m NHN\n",
    "h22_2 =  85  #  m NHN\n",
    "d22 = 0.6*1000 # m\n",
    "\n",
    "s22_1 = K22*m22*(h22_1-h22_2)/L22*w22 # m³/d\n",
    "\n",
    "h22_3=h22_1 - ((s22_1/w22)/(K22*m22))* d22\n",
    " \n",
    "\n",
    "print(s22_1, h22_3 )"
   ]
  },
  {
   "cell_type": "code",
   "execution_count": 10,
   "id": "moderate-chancellor",
   "metadata": {},
   "outputs": [
    {
     "name": "stdout",
     "output_type": "stream",
     "text": [
      "0.0033333333333332936 273.79776383999683\n"
     ]
    }
   ],
   "source": [
    "#23\n",
    "\n",
    "K23 = 9.71 * 10**-5 # ms-1\n",
    "w23 = 398 #m and a \n",
    "m23= 24.6 #m (see figure). \n",
    "L23 = 456 # m\n",
    "h23_1 =240.08 # m\n",
    "h23_2 = 241.60 # m\n",
    "\n",
    "i23 = (h23_2-h23_1)/(L23)\n",
    "Q23 = K23*i23*m23*w23*60*60*24\n",
    "\n",
    "print(i23, Q23)\n"
   ]
  },
  {
   "cell_type": "code",
   "execution_count": 11,
   "id": "frank-commission",
   "metadata": {},
   "outputs": [
    {
     "name": "stdout",
     "output_type": "stream",
     "text": [
      "15.446464315736067 12.618502275185211\n"
     ]
    }
   ],
   "source": [
    "#28\n",
    "\n",
    "S28 = 2.21 * 10**-5 # \n",
    "T28 = 0.00138*60 # m2/m\n",
    "Q28 =  51/60 # m3/min \n",
    "t28 = 425 # min\n",
    "r28=  0.7 # m.\n",
    "\n",
    "u28 = S28*r28/(4*T28*t28)\n",
    "wu28 = -0.5772-np.log(u28)+u28\n",
    "\n",
    "s28 = Q28/(4*np.pi*T28)*wu28\n",
    "print(wu28,s28)"
   ]
  },
  {
   "cell_type": "code",
   "execution_count": 12,
   "id": "infrared-egypt",
   "metadata": {},
   "outputs": [
    {
     "data": {
      "text/plain": [
       "26.701531656720356"
      ]
     },
     "execution_count": 12,
     "metadata": {},
     "output_type": "execute_result"
    }
   ],
   "source": [
    "#29\n",
    "\n",
    "T29 = 4.64 # m2/d\n",
    "r29 = 5/100 # m\n",
    "R29 = 35 # m\n",
    "\n",
    "dd29 = 6 # m\n",
    "\n",
    "Q29= 2*np.pi*T29*dd29/(np.log(R29)- np.log(r29))\n",
    "Q29\n",
    "\n"
   ]
  },
  {
   "cell_type": "code",
   "execution_count": 13,
   "id": "medical-concept",
   "metadata": {},
   "outputs": [
    {
     "name": "stdout",
     "output_type": "stream",
     "text": [
      "0.00017391304347826088 0.00022684310018903592\n"
     ]
    }
   ],
   "source": [
    "#33\n",
    "\n",
    "L33 = 0.23 #m and\n",
    "d33 = 5/100 #cm\n",
    "n33 = 0.28 # \n",
    "K33 = 0.0002 #m/s.\n",
    "\n",
    "h33_1 = 7/100 #m #and\n",
    "h33_2 = 5/100 #m, resp.\n",
    "C33=  10 #mg/L\n",
    "al33 = 0.3 # m,\n",
    "\n",
    "\n",
    "q33 = (K33*(h33_1-h33_2)/L33)\n",
    "v33 = q33/n33\n",
    "\n",
    "A33 = n33*v33*C33\n",
    "D33 = n33*al33*v33*C33/L33\n",
    "\n",
    "print(A33, D33)"
   ]
  },
  {
   "cell_type": "code",
   "execution_count": 14,
   "id": "linear-standard",
   "metadata": {},
   "outputs": [
    {
     "data": {
      "text/plain": [
       "(0.12223283962876715, 5.67071159162382)"
      ]
     },
     "execution_count": 14,
     "metadata": {},
     "output_type": "execute_result"
    }
   ],
   "source": [
    "#34\n",
    "C34_1 = 120 #  mg/L \n",
    "t34= 26 # years \n",
    "C34_2 = 5 #mg/L\n",
    "\n",
    "lam38 =np.log(C34_1/C34_2)/t34\n",
    "Th38 = np.log(2)/lam38\n",
    "lam38,Th38"
   ]
  },
  {
   "cell_type": "code",
   "execution_count": null,
   "id": "flexible-trademark",
   "metadata": {},
   "outputs": [],
   "source": []
  }
 ],
 "metadata": {
  "kernelspec": {
   "display_name": "Python 3",
   "language": "python",
   "name": "python3"
  },
  "language_info": {
   "codemirror_mode": {
    "name": "ipython",
    "version": 3
   },
   "file_extension": ".py",
   "mimetype": "text/x-python",
   "name": "python",
   "nbconvert_exporter": "python",
   "pygments_lexer": "ipython3",
   "version": "3.8.8"
  }
 },
 "nbformat": 4,
 "nbformat_minor": 5
}
