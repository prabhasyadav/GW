{
 "cells": [
  {
   "cell_type": "code",
   "execution_count": 146,
   "metadata": {
    "ExecuteTime": {
     "end_time": "2020-06-12T05:41:23.095400Z",
     "start_time": "2020-06-12T05:41:22.806846Z"
    }
   },
   "outputs": [],
   "source": [
    "import numpy as np\n",
    "import pandas as pd \n",
    "import matplotlib.pyplot as plt \n",
    "import matplotlib.ticker as mtick"
   ]
  },
  {
   "cell_type": "markdown",
   "metadata": {},
   "source": [
    "## Questionnaire for evaluation of JUPYTER based learning #\n",
    "\n",
    "The questions are to evaluate the teaching concept using JUPYTER notebook that was adopted in your class. It is not an evaluation of teacher-lecturer teaching ability.\n",
    "\n",
    "Your opinions are to be used to improve the concept of JUPYTER based interactive teaching method. In addition, to provide data to administrative and funding agencies to help further develop and adopt the method.\n",
    "\n",
    "### Q1. How difficult was the JUPYTER notebook to install and start working with, (also using the web-verison)? \n",
    "\n",
    "- [ ] Very easy\n",
    "- [ ] Easy\n",
    "- [ ] Just fine\n",
    "- [ ] Difficult\n",
    "- [ ] Very difficult\n",
    "\n",
    "### Q2. Do you think the interactive computation that the JUPYTER notebooks provided helped you improve your learning.\n",
    "\n",
    "- [ ] Yes, very much\n",
    "- [ ] Yes, but could be better\n",
    "- [ ] Did not find any difference\n",
    "- [ ] No, was confusing\n",
    "- [ ] No, not at all\n",
    "\n",
    "### Q3. Did provided JUPYTER notebook encouraged you re-compute the results using another data, e.g., by changing some data asked in question?\n",
    "\n",
    "- [ ] Yes, I did that quite often\n",
    "- [ ] Yes, but not very often\n",
    "- [ ] Nothing as such\n",
    "- [ ] No, it was difficult\n",
    "- [ ] No, very difficult to make any change.\n",
    "\n",
    "### Q4. Did provided JUPYTER notebook encouraged you to plot and visualize your data and results?\n",
    "\n",
    "- [ ] Yes, that was really easy\n",
    "- [ ] Yes, with some difficulty\n",
    "- [ ] Did not get motivated\n",
    "- [ ] No, it was difficult\n",
    "- [ ] Never\n",
    "\n",
    "### Q5. How difficult was the Python code (in the notebook) to understand, and eventually encourage you to learn to code by yourself. \n",
    "\n",
    "- [ ] Very easy to learn\n",
    "- [ ] Quite easy to learn\n",
    "- [ ] I have a neutral opinion\n",
    "- [ ] I think it was difficult in general\n",
    "- [ ] Not at all- coding is difficult.\n",
    "\n",
    "### Q6. How would you rate JUPYTER notebook based contents for _self-learning_.\n",
    "\n",
    "- [ ] Very easy to follow\n",
    "- [ ] Easy to follow\n",
    "- [ ] No opinion\n",
    "- [ ] Difficult to follow\n",
    "- [ ] Tough for self-learning\n",
    "\n",
    "### Q7. Do you think you will need JUPYTER based skills (computing, plotting, analysis and coding) in your future works.\n",
    "\n",
    "- [ ] Yes, already in my M.Sc. thesis (best use)\n",
    "- [ ] Yes, but probably only for plotting or computing (less coding)\n",
    "- [ ] Yes, but not in near future (maybe for professional job)\n",
    "- [ ] Not really, I hope I can find its use.\n",
    "- [ ] No.\n",
    "\n",
    "### Q8. Do you recommend JUPYTER notebook based learning?\n",
    "\n",
    "- [ ] Highly recommended\n",
    "- [ ] Recommended\n",
    "- [ ] Only limited recommendation\n",
    "- [ ] Very limited recommendation\n",
    "- [ ] Not recommended."
   ]
  },
  {
   "cell_type": "code",
   "execution_count": 145,
   "metadata": {},
   "outputs": [
    {
     "data": {
      "image/png": "[encoded data removed]",
      "text/plain": [
       "<Figure size 432x288 with 1 Axes>"
      ]
     },
     "metadata": {
      "needs_background": "light"
     },
     "output_type": "display_data"
    }
   ],
   "source": [
    "# HTW\n",
    "df1 = pd.read_csv(\"HTW.csv\", sep=\",\") \n",
    "\n",
    "#score calculation\n",
    "score1=df1.sum(axis =0)\n",
    "max_score1 = df1.count(axis=0)*5 \n",
    "per_score1=(score1.iloc[1:]/max_score1.iloc[1:])*100\n",
    "\n",
    "#plots\n",
    "ax = per_score1.plot(kind = \"bar\")\n",
    "ax.set_ylim((0, 100))\n",
    "ax.yaxis.set_major_formatter(mtick.PercentFormatter())\n",
    "ax.set_xlabel(\"Questions\"); ax.set_ylabel(\"% Positive Score\")\n",
    "ax.set_title(\"JUPYTER based learning Survey- HTW- Hydraulic Modeling, WS 2019-20\", color='red', fontweight='bold', fontsize=8)\n",
    "\n",
    "y= per_score1.tolist()\n",
    "y = np.round(y,1)\n",
    "\n",
    "for i, v in enumerate(y):\n",
    "    ax.text(i-0.3, v+2, str(v), color='red', fontweight='bold')"
   ]
  },
  {
   "cell_type": "code",
   "execution_count": 142,
   "metadata": {},
   "outputs": [
    {
     "data": {
      "image/png": "[encoded data removed]",
      "text/plain": [
       "<Figure size 432x288 with 1 Axes>"
      ]
     },
     "metadata": {
      "needs_background": "light"
     },
     "output_type": "display_data"
    }
   ],
   "source": [
    "#HSE - Groundwater\n",
    "\n",
    "df2 = pd.read_csv(\"HSE.csv\", sep=\",\") \n",
    "\n",
    "#score calculation\n",
    "score2=df2.sum(axis =0)\n",
    "max_score2 = df2.count(axis=0)*5 \n",
    "per_score2=(score2.iloc[1:]/max_score2.iloc[1:])*100\n",
    "\n",
    "#plots\n",
    "ax2 = per_score2.plot(kind = \"bar\")\n",
    "ax2.set_ylim((0, 100))\n",
    "ax2.yaxis.set_major_formatter(mtick.PercentFormatter())\n",
    "ax2.set_xlabel(\"Questions\"); ax2.set_ylabel(\"% Positive Score\")\n",
    "ax2.set_title(\"JUPYTER based learning Survey- HSE- Groundwater, WS 2019-20\", color='red', fontweight='bold', fontsize=8)\n",
    "\n",
    "y2= per_score2.tolist()\n",
    "y2 = np.round(y2,1)\n",
    "\n",
    "for i, w in enumerate(y2):\n",
    "    ax2.text(i-0.3, w+2, str(w), color='red', fontweight='bold')\n",
    "\n",
    "plt.savefig(\"HSE\")"
   ]
  }
 ],
 "metadata": {
  "hide_input": false,
  "kernelspec": {
   "display_name": "Python 3",
   "language": "python",
   "name": "python3"
  },
  "language_info": {
   "codemirror_mode": {
    "name": "ipython",
    "version": 3
   },
   "file_extension": ".py",
   "mimetype": "text/x-python",
   "name": "python",
   "nbconvert_exporter": "python",
   "pygments_lexer": "ipython3",
   "version": "3.7.6"
  },
  "latex_envs": {
   "LaTeX_envs_menu_present": true,
   "autoclose": false,
   "autocomplete": true,
   "bibliofile": "biblio.bib",
   "cite_by": "apalike",
   "current_citInitial": 1,
   "eqLabelWithNumbers": true,
   "eqNumInitial": 1,
   "hotkeys": {
    "equation": "Ctrl-E",
    "itemize": "Ctrl-I"
   },
   "labels_anchors": false,
   "latex_user_defs": false,
   "report_style_numbering": false,
   "user_envs_cfg": false
  },
  "varInspector": {
   "cols": {
    "lenName": 16,
    "lenType": 16,
    "lenVar": 40
   },
   "kernels_config": {
    "python": {
     "delete_cmd_postfix": "",
     "delete_cmd_prefix": "del ",
     "library": "var_list.py",
     "varRefreshCmd": "print(var_dic_list())"
    },
    "r": {
     "delete_cmd_postfix": ") ",
     "delete_cmd_prefix": "rm(",
     "library": "var_list.r",
     "varRefreshCmd": "cat(var_dic_list()) "
    }
   },
   "types_to_exclude": [
    "module",
    "function",
    "builtin_function_or_method",
    "instance",
    "_Feature"
   ],
   "window_display": false
  }
 },
 "nbformat": 4,
 "nbformat_minor": 4
}
