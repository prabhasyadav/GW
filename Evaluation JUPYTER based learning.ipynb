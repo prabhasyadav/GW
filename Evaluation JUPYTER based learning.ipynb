{
 "cells": [
  {
   "cell_type": "markdown",
   "id": "bound-eugene",
   "metadata": {},
   "source": [
    "# Questionnaire for evaluation of JUPYTER based learning #\n",
    "\n",
    "The questions are to evaluate the teaching concept using JUPYTER notebook that was adopted in your class. It is not an evaluation of teacher/lecturer teaching ability.\n",
    "\n",
    "Your opinions are to be used to improve the concept of JUPYTER based interactive teaching method. In addition, to provide data to administrative and funding agencies to help further develop and adopt the method.\n",
    "\n",
    "## Q1. How difficult was the JUPYTER notebook to install and start working with, (also using the web-verison)? \n",
    "\n",
    "- [ ] Very easy\n",
    "- [ ] Easy\n",
    "- [ ] Just fine\n",
    "- [ ] Difficult\n",
    "- [ ] Very difficult\n",
    "\n",
    "## Q2. Do you think the interactive computation that the JUPYTER notebooks provided helped you improve your learning.\n",
    "\n",
    "- [ ] Yes, very much\n",
    "- [ ] Yes, but could be better\n",
    "- [ ] Did not find any difference\n",
    "- [ ] No, was confusing\n",
    "- [ ] No, not at all\n",
    "\n",
    "## Q3. Did provided JUPYTER notebook encouraged you re-compute the results using another data, e.g., by changing some data asked in question?\n",
    "\n",
    "- [ ] Yes, I did that quite often\n",
    "- [ ] Yes, but not very often\n",
    "- [ ] Nothing as such\n",
    "- [ ] No, it was difficult\n",
    "- [ ] No, very difficult to make any change.\n",
    "\n",
    "## Q4. Did provided JUPYTER notebook encouraged you to plot and visualize your data and results?\n",
    "\n",
    "- [ ] Yes, that was really easy\n",
    "- [ ] Yes, with some difficulty\n",
    "- [ ] Did not get motivated\n",
    "- [ ] No, it was difficult\n",
    "- [ ] Never\n",
    "\n",
    "## Q5. How difficult was the Python code (in the notebook) to understand, and eventually encourage you to learn to code by yourself. \n",
    "\n",
    "- [ ] Very easy to learn\n",
    "- [ ] Quite easy to learn\n",
    "- [ ] I have a neutral opinion\n",
    "- [ ] I think it was difficult in general\n",
    "- [ ] Not at all- coding is difficult.\n",
    "\n",
    "## Q6. How would you rate JUPYTER notebook based contents for _self-learning_.\n",
    "\n",
    "- [ ] Very easy to follow\n",
    "- [ ] Easy to follow\n",
    "- [ ] No opinion\n",
    "- [ ] Difficult to follow\n",
    "- [ ] Tough for self-learning\n",
    "\n",
    "## Q7. Do you think you will need JUPYTER based skills (computing, plotting, analysis and coding) in your future works.\n",
    "\n",
    "- [ ] Yes, already in my M.Sc. thesis (best use)\n",
    "- [ ] Yes, but probably only for plotting or computing (less coding)\n",
    "- [ ] Yes, but not in near future (maybe for professional job)\n",
    "- [ ] Not really, I hope I can find its use.\n",
    "- [ ] No.\n",
    "\n",
    "## Q8. Do you recommend JUPYTER notebook based learning?\n",
    "\n",
    "- [ ] Highly recommended\n",
    "- [ ] Recommended\n",
    "- [ ] Only limited recommendation\n",
    "- [ ] Very limited recommendation\n",
    "- [ ] Not recommended."
   ]
  },
  {
   "cell_type": "code",
   "execution_count": 44,
   "id": "nearby-examination",
   "metadata": {},
   "outputs": [
    {
     "data": {
      "image/png": "[encoded data removed]",
      "text/plain": [
       "<Figure size 432x288 with 1 Axes>"
      ]
     },
     "metadata": {
      "needs_background": "light"
     },
     "output_type": "display_data"
    }
   ],
   "source": [
    "import matplotlib\n",
    "import matplotlib.pyplot as plt\n",
    "import numpy as np\n",
    "\n",
    "\n",
    "labels = ['Q1', 'Q2', 'Q3', 'Q4', 'Q5', 'Q6','Q7', 'Q8']\n",
    "Sc_HTW = [73, 73, 82, 86, 63, 66, 86, 80]\n",
    "Sc_HSE = [66, 79, 80, 67, 73, 73, 68, 83]\n",
    "\n",
    "\n",
    "x = np.arange(len(labels))  # the label locations\n",
    "width = 0.35  # the width of the bars\n",
    "\n",
    "fig, ax = plt.subplots()\n",
    "rects1 = ax.bar(x - width/2, Sc_HTW, width, label='HTW')\n",
    "rects2 = ax.bar(x + width/2, Sc_HSE, width, label='HSE')\n",
    "\n",
    "# Add some text for labels, title and custom x-axis tick labels, etc.\n",
    "ax.set_ylabel('% positive scores')\n",
    "ax.set_xlabel('Questions (see above)')\n",
    "ax.set_title('Survey on JUPYTER-based Learning ')\n",
    "ax.set_xticks(x)\n",
    "ax.set_xticklabels(labels)\n",
    "ax.legend(loc =2)\n",
    "ax.set_ylim([0,100])\n",
    "\n",
    "\n",
    "def autolabel(rects):\n",
    "    \"\"\"Attach a text label above each bar in *rects*, displaying its height.\"\"\"\n",
    "    for rect in rects:\n",
    "        height = rect.get_height()\n",
    "        ax.annotate('{}'.format(height),\n",
    "                    xy=(rect.get_x() + rect.get_width() / 2, height),\n",
    "                    xytext=(0, 3),  # 3 points vertical offset\n",
    "                    textcoords=\"offset points\",\n",
    "                    ha='center', va='bottom')\n",
    "\n",
    "\n",
    "autolabel(rects1)\n",
    "autolabel(rects2)\n",
    "\n",
    "fig.tight_layout()\n",
    "\n"
   ]
  },
  {
   "cell_type": "code",
   "execution_count": null,
   "id": "apart-nashville",
   "metadata": {},
   "outputs": [],
   "source": []
  }
 ],
 "metadata": {
  "hide_input": false,
  "kernelspec": {
   "display_name": "Python 3",
   "language": "python",
   "name": "python3"
  },
  "language_info": {
   "codemirror_mode": {
    "name": "ipython",
    "version": 3
   },
   "file_extension": ".py",
   "mimetype": "text/x-python",
   "name": "python",
   "nbconvert_exporter": "python",
   "pygments_lexer": "ipython3",
   "version": "3.8.5"
  },
  "latex_envs": {
   "LaTeX_envs_menu_present": true,
   "autoclose": false,
   "autocomplete": true,
   "bibliofile": "biblio.bib",
   "cite_by": "apalike",
   "current_citInitial": 1,
   "eqLabelWithNumbers": true,
   "eqNumInitial": 1,
   "hotkeys": {
    "equation": "Ctrl-E",
    "itemize": "Ctrl-I"
   },
   "labels_anchors": false,
   "latex_user_defs": false,
   "report_style_numbering": false,
   "user_envs_cfg": false
  },
  "varInspector": {
   "cols": {
    "lenName": 16,
    "lenType": 16,
    "lenVar": 40
   },
   "kernels_config": {
    "python": {
     "delete_cmd_postfix": "",
     "delete_cmd_prefix": "del ",
     "library": "var_list.py",
     "varRefreshCmd": "print(var_dic_list())"
    },
    "r": {
     "delete_cmd_postfix": ") ",
     "delete_cmd_prefix": "rm(",
     "library": "var_list.r",
     "varRefreshCmd": "cat(var_dic_list()) "
    }
   },
   "types_to_exclude": [
    "module",
    "function",
    "builtin_function_or_method",
    "instance",
    "_Feature"
   ],
   "window_display": false
  }
 },
 "nbformat": 4,
 "nbformat_minor": 5
}
